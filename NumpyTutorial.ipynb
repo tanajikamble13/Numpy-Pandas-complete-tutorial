{
 "cells": [
  {
   "cell_type": "markdown",
   "metadata": {},
   "source": [
    "## Numpy complete tutorial\n",
    "Reference: https://www.tutorialspoint.com/numpy/numpy_quick_guide.htm"
   ]
  },
  {
   "cell_type": "code",
   "execution_count": 1,
   "metadata": {},
   "outputs": [
    {
     "name": "stdout",
     "output_type": "stream",
     "text": [
      "<class 'numpy.ndarray'>\n",
      "(1, 10)\n"
     ]
    }
   ],
   "source": [
    "import numpy as np\n",
    "a = np.arange(10) \n",
    "print (type (a))\n",
    "\n",
    "b=a[np.newaxis, :] #array to vector\n",
    "\n",
    "print (b.shape)\n"
   ]
  },
  {
   "cell_type": "code",
   "execution_count": 2,
   "metadata": {},
   "outputs": [],
   "source": [
    "b=a[np.newaxis, :]"
   ]
  },
  {
   "cell_type": "code",
   "execution_count": 3,
   "metadata": {},
   "outputs": [
    {
     "name": "stdout",
     "output_type": "stream",
     "text": [
      "(1, 10)\n"
     ]
    }
   ],
   "source": [
    "print (b.shape)\n"
   ]
  },
  {
   "cell_type": "code",
   "execution_count": 4,
   "metadata": {},
   "outputs": [
    {
     "name": "stdout",
     "output_type": "stream",
     "text": [
      "[[1. 2. 3.]\n",
      " [1. 3. 2.]\n",
      " [1. 1. 2.]]\n",
      "[2. 3. 1.]\n",
      "[2. 3. 3. 2. 2.]\n",
      "[1. 2. 3. 4. 5.]\n"
     ]
    }
   ],
   "source": [
    "A=np.array([[1,2,3], [1,3,2],[1,1,2]], dtype=float) #array creation\n",
    "print(A)\n",
    "print(A[...,1])#slicing\n",
    "print (A[A > 1]) #boolean indexing\n",
    "A.reshape(1,9)\n",
    "a = np.array([np.nan, 1,2,np.nan,3,4,5]) \n",
    "print (a[~np.isnan(a)]) # removing nan"
   ]
  },
  {
   "cell_type": "code",
   "execution_count": 5,
   "metadata": {},
   "outputs": [
    {
     "data": {
      "text/plain": [
       "array([[1., 2., 3., 1., 3., 2., 1., 1., 2.]])"
      ]
     },
     "execution_count": 5,
     "metadata": {},
     "output_type": "execute_result"
    }
   ],
   "source": [
    "A.reshape(1,9)"
   ]
  },
  {
   "cell_type": "markdown",
   "metadata": {},
   "source": [
    "## Numpy Broadcasting\n",
    "Broadcasting refers to the ability of NumPy to treat arrays of different shapes during arithmetic operations."
   ]
  },
  {
   "cell_type": "code",
   "execution_count": 6,
   "metadata": {},
   "outputs": [
    {
     "name": "stdout",
     "output_type": "stream",
     "text": [
      "[[ 10  40  90 160]\n",
      " [  1   4   9  16]]\n"
     ]
    }
   ],
   "source": [
    "a = np.array([1,2,3,4]) \n",
    "b = np.array([[10,20,30,40], [1,2,3,4]]) \n",
    "c = a * b \n",
    "print (c) "
   ]
  },
  {
   "cell_type": "markdown",
   "metadata": {},
   "source": [
    "## Numpy iterarting\n",
    "NumPy package contains an iterator object numpy.nditer"
   ]
  },
  {
   "cell_type": "code",
   "execution_count": 7,
   "metadata": {},
   "outputs": [
    {
     "name": "stdout",
     "output_type": "stream",
     "text": [
      "Original array is:\n",
      "[[ 0  5 10 15]\n",
      " [20 25 30 35]\n",
      " [40 45 50 55]]\n",
      "\n",
      "\n",
      "Modified array is:\n",
      "0\n",
      "5\n",
      "10\n",
      "15\n",
      "20\n",
      "25\n",
      "30\n",
      "35\n",
      "40\n",
      "45\n",
      "50\n",
      "55\n",
      "total count is  12\n"
     ]
    }
   ],
   "source": [
    "a = np.arange(0,60,5)\n",
    "a = a.reshape(3,4)\n",
    "\n",
    "print ('Original array is:')\n",
    "print(a)\n",
    "print (\"\\n\")\n",
    "a = a.T  #if we want iter transpose\n",
    "print ('Modified array is:')\n",
    "i=0\n",
    "for x in np.nditer(a): #it will take elementwise\n",
    "#for x in a:  ##it will take row wise \n",
    "    i=i+1\n",
    "    print(x)\n",
    "print(\"total count is \",i) #Best way to print anything"
   ]
  },
  {
   "cell_type": "code",
   "execution_count": 8,
   "metadata": {},
   "outputs": [
    {
     "name": "stdout",
     "output_type": "stream",
     "text": [
      "Original array is:\n",
      "[[ 0  5 10 15]\n",
      " [20 25 30 35]\n",
      " [40 45 50 55]]\n",
      "\n",
      "\n",
      "Transpose of the original array is:\n",
      "[[ 0 20 40]\n",
      " [ 5 25 45]\n",
      " [10 30 50]\n",
      " [15 35 55]]\n",
      "\n",
      "\n",
      "Sorted in C-style order:\n",
      "[[ 0 20 40]\n",
      " [ 5 25 45]\n",
      " [10 30 50]\n",
      " [15 35 55]]\n",
      "0\n",
      "20\n",
      "40\n",
      "5\n",
      "25\n",
      "45\n",
      "10\n",
      "30\n",
      "50\n",
      "15\n",
      "35\n",
      "55\n",
      "\n",
      "\n",
      "Sorted in F-style order:\n",
      "[[ 0 20 40]\n",
      " [ 5 25 45]\n",
      " [10 30 50]\n",
      " [15 35 55]]\n",
      "0\n",
      "5\n",
      "10\n",
      "15\n",
      "20\n",
      "25\n",
      "30\n",
      "35\n",
      "40\n",
      "45\n",
      "50\n",
      "55\n"
     ]
    }
   ],
   "source": [
    "##If the same elements are stored using F-style order, the iterator chooses the more \n",
    "#efficient way of iterating over an array.\n",
    "#c-style --> row wise iteration\n",
    "#f-style --> column wise iteration\n",
    "\n",
    "a = np.arange(0,60,5)\n",
    "a = a.reshape(3,4)\n",
    "print ('Original array is:')\n",
    "print (a)\n",
    "print ('\\n')\n",
    "\n",
    "print ('Transpose of the original array is:')\n",
    "b = a.T\n",
    "print( b)\n",
    "print ('\\n')\n",
    "\n",
    "print ('Sorted in C-style order:')\n",
    "c = b.copy(order = 'C')\n",
    "print (c)\n",
    "for x in np.nditer(c):\n",
    "    print (x)\n",
    "\n",
    "print ('\\n')\n",
    "\n",
    "print ('Sorted in F-style order:')\n",
    "c = b.copy(order = 'F')\n",
    "print (c)\n",
    "for x in np.nditer(c):\n",
    "    print (x)"
   ]
  },
  {
   "cell_type": "code",
   "execution_count": 9,
   "metadata": {},
   "outputs": [
    {
     "name": "stdout",
     "output_type": "stream",
     "text": [
      "Sorted in C-style order:\n",
      "0\n",
      "5\n",
      "10\n",
      "15\n",
      "20\n",
      "25\n",
      "30\n",
      "35\n",
      "40\n",
      "45\n",
      "50\n",
      "55\n",
      "\n",
      "\n",
      "Sorted in F-style order:\n",
      "0\n",
      "20\n",
      "40\n",
      "5\n",
      "25\n",
      "45\n",
      "10\n",
      "30\n",
      "50\n",
      "15\n",
      "35\n",
      "55\n"
     ]
    }
   ],
   "source": [
    "print ('Sorted in C-style order:' )\n",
    "for x in np.nditer(a, order = 'C'): \n",
    "    print (x,)  \n",
    "print ('\\n' )\n",
    "\n",
    "print ('Sorted in F-style order:' )\n",
    "for x in np.nditer(a, order = 'F'): \n",
    "    print (x,)"
   ]
  },
  {
   "cell_type": "code",
   "execution_count": 10,
   "metadata": {},
   "outputs": [
    {
     "name": "stdout",
     "output_type": "stream",
     "text": [
      "Original array is:\n",
      "[[ 0  5 10 15]\n",
      " [20 25 30 35]\n",
      " [40 45 50 55]]\n",
      "\n",
      "\n",
      "Modified array is:\n",
      "[[  0  10  20  30]\n",
      " [ 40  50  60  70]\n",
      " [ 80  90 100 110]]\n",
      "[ 0 40 80]\n",
      "[10 50 90]\n",
      "[ 20  60 100]\n",
      "[ 30  70 110]\n"
     ]
    }
   ],
   "source": [
    "## Modifying Array Values\n",
    "\n",
    "print ('Original array is:')\n",
    "print( a)\n",
    "print ('\\n')\n",
    "\n",
    "for x in np.nditer(a, op_flags = ['readwrite']): ##op_flag default value 'read-only'\n",
    "    x[...] = 2*x\n",
    "print ('Modified array is:')\n",
    "print (a)\n",
    "### other flags\n",
    "##x_index, f_index,multi-ndex,external_loop\n",
    "for x in np.nditer(a, flags = ['external_loop'], order = 'F'):\n",
    "    print (x,)"
   ]
  },
  {
   "cell_type": "code",
   "execution_count": 11,
   "metadata": {},
   "outputs": [
    {
     "name": "stdout",
     "output_type": "stream",
     "text": [
      "First array is:\n",
      "[[ 0  5 10 15]\n",
      " [20 25 30 35]\n",
      " [40 45 50 55]]\n",
      "\n",
      "\n",
      "Second array is:\n",
      "[1 2 3 4]\n",
      "\n",
      "\n",
      "Modified array is:\n",
      "0:1\n",
      "5:2\n",
      "10:3\n",
      "15:4\n",
      "20:1\n",
      "25:2\n",
      "30:3\n",
      "35:4\n",
      "40:1\n",
      "45:2\n",
      "50:3\n",
      "55:4\n"
     ]
    }
   ],
   "source": [
    "## Broadcasting iteration\n",
    "a = np.arange(0,60,5) \n",
    "a = a.reshape(3,4) \n",
    "\n",
    "print ('First array is:' )\n",
    "print (a )\n",
    "print ('\\n'  )\n",
    "\n",
    "print ('Second array is:' )\n",
    "b = np.array([1, 2, 3, 4], dtype = int) \n",
    "print (b  )\n",
    "print ('\\n' )\n",
    "print ('Modified array is:' )\n",
    "for x,y in np.nditer([a,b]): \n",
    "    print (\"%d:%d\" % (x,y),)"
   ]
  },
  {
   "cell_type": "markdown",
   "metadata": {},
   "source": [
    "## NumPy - Array Manipulation\n",
    "#### Changing shape: \n",
    "reshape, flat, flatten, ravel\n",
    "#### Transpose Operations:\n",
    "transpose, ndarray.T, rollaxis, swapaxes\n",
    "#### Changing Dimensions: \n",
    "broadcast, broadcast_to,expand_dims, squeeze\n",
    "#### joining arrays: \n",
    "concatenate, stack, hstack,vstack\n",
    "#### Splitting Arrays: \n",
    "split,hsplit, vsplit\n",
    "#### Adding / Removing Elements:\n",
    "append, resize,insert, unit, delete\n",
    "#### NumPy - Binary Operators\n",
    "bitwise_and, bitwise_or, invert,left_shift,right_shift\n",
    "#### NumPy - String Functions\n",
    "add(), multiply(),center(),capitalize(), title(), lower(), upper(), split(), splitness()\n",
    "strip(), join(), replace(), decode(), encode()\n",
    "#### Functions for Rounding/floor\n",
    "around(), floor(),ceil()-->ceil of the scalar x is the smallest integer i, where i >= x.\n",
    "\n"
   ]
  },
  {
   "cell_type": "code",
   "execution_count": 12,
   "metadata": {},
   "outputs": [
    {
     "name": "stdout",
     "output_type": "stream",
     "text": [
      "[[ 0  5 10 15]\n",
      " [20 25 30 35]\n",
      " [40 45 50 55]]\n",
      "<built-in method ravel of numpy.ndarray object at 0x7f726bb211c0>\n"
     ]
    }
   ],
   "source": [
    "a = np.arange(0,60,5) \n",
    "a=a.reshape(3,4)\n",
    "print(a)\n",
    "print(a.ravel)"
   ]
  },
  {
   "cell_type": "markdown",
   "metadata": {},
   "source": [
    "##  Trignometric functions\n"
   ]
  },
  {
   "cell_type": "code",
   "execution_count": 13,
   "metadata": {},
   "outputs": [
    {
     "name": "stdout",
     "output_type": "stream",
     "text": [
      "Array containing sine values:\n",
      "[0.         0.5        0.70710678 0.8660254  1.        ]\n",
      "\n",
      "\n",
      "Compute sine inverse of angles. Returned values are in radians.\n",
      "[0.         0.52359878 0.78539816 1.04719755 1.57079633]\n",
      "\n",
      "\n",
      "Check result by converting to degrees:\n",
      "[ 0. 30. 45. 60. 90.]\n",
      "\n",
      "\n",
      "arccos and arctan functions behave similarly:\n",
      "[1.00000000e+00 8.66025404e-01 7.07106781e-01 5.00000000e-01\n",
      " 6.12323400e-17]\n",
      "\n",
      "\n",
      "Inverse of cos:\n",
      "[0.         0.52359878 0.78539816 1.04719755 1.57079633]\n",
      "\n",
      "\n",
      "In degrees:\n",
      "[ 0. 30. 45. 60. 90.]\n",
      "\n",
      "\n",
      "Tan function:\n",
      "[0.00000000e+00 5.77350269e-01 1.00000000e+00 1.73205081e+00\n",
      " 1.63312394e+16]\n",
      "\n",
      "\n",
      "Inverse of tan:\n",
      "[0.         0.52359878 0.78539816 1.04719755 1.57079633]\n",
      "\n",
      "\n",
      "In degrees:\n",
      "[ 0. 30. 45. 60. 90.]\n"
     ]
    }
   ],
   "source": [
    "a = np.array([0,30,45,60,90]) \n",
    "\n",
    "print ('Array containing sine values:' )\n",
    "sin = np.sin(a*np.pi/180) \n",
    "print (sin )\n",
    "print ('\\n' )\n",
    "print ('Compute sine inverse of angles. Returned values are in radians.' )\n",
    "inv = np.arcsin(sin) \n",
    "print (inv )\n",
    "print ('\\n'  \n",
    ")\n",
    "print ('Check result by converting to degrees:' )\n",
    "print (np.degrees(inv) )\n",
    "print ('\\n')  \n",
    "\n",
    "print ('arccos and arctan functions behave similarly:' )\n",
    "cos = np.cos(a*np.pi/180) \n",
    "print (cos )\n",
    "print ('\\n'  )\n",
    "\n",
    "print ('Inverse of cos:' )\n",
    "inv = np.arccos(cos) \n",
    "print (inv )\n",
    "print ('\\n'  )\n",
    "\n",
    "print ('In degrees:' )\n",
    "print (np.degrees(inv) )\n",
    "print ('\\n'  )\n",
    "\n",
    "print ('Tan function:' )\n",
    "tan = np.tan(a*np.pi/180) \n",
    "print (tan)\n",
    "print ('\\n')  \n",
    "\n",
    "print ('Inverse of tan:' )\n",
    "inv = np.arctan(tan) \n",
    "print (inv )\n",
    "print ('\\n' ) \n",
    "\n",
    "print ('In degrees:' )\n",
    "print (np.degrees(inv))"
   ]
  },
  {
   "cell_type": "markdown",
   "metadata": {},
   "source": [
    "### NumPy - Arithmetic Operations\n",
    "add(), subtract(),multiply(), divide(),reciprocal(), power()\n",
    "mod(), remainder()"
   ]
  },
  {
   "cell_type": "code",
   "execution_count": 14,
   "metadata": {},
   "outputs": [
    {
     "name": "stdout",
     "output_type": "stream",
     "text": [
      "Our array is:\n",
      "[10 20 30]\n",
      "\n",
      " power 2: [100 400 900]\n",
      "\n",
      " reciprocal 2: [0 0 0]\n",
      "\n",
      " mod a/b: [1 0 2]\n",
      "\n",
      " remainder a/b: [1 0 2]\n",
      "\n",
      " imaginry [-5.6  0.2  0.   1. ]\n",
      "\n",
      " real [-0.  0. 11.  1.]\n",
      "\n",
      " complex conjugate [-0.+5.6j  0.-0.2j 11.-0.j   1.-1.j ]\n",
      "\n",
      " angle in rad [-1.57079633  1.57079633  0.          0.78539816]\n",
      "\n",
      " angle in degrees [-90.  90.   0.  45.]\n"
     ]
    }
   ],
   "source": [
    "a = np.array([10,20,30]) \n",
    "b = np.array([3,5,7]) \n",
    "\n",
    "print ('Our array is:' )\n",
    "print (a )\n",
    "print(\"\\n power 2:\",np.power(a,2)) \n",
    "print(\"\\n reciprocal 2:\",np.reciprocal(a))\n",
    "print(\"\\n mod a/b:\",np.mod(a,b)) \n",
    "print(\"\\n remainder a/b:\",np.remainder(a,b)) \n",
    "\n",
    "a = np.array([-5.6j, 0.2j, 11. , 1+1j]) \n",
    "print(\"\\n imaginry\", np.imag(a))\n",
    "print(\"\\n real\", np.real(a))\n",
    "print(\"\\n complex conjugate\", np.conj(a)) # complex conjugate\n",
    "print(\"\\n angle in rad\", np.angle(a))\n",
    "print(\"\\n angle in degrees\", np.angle(a, deg=True))"
   ]
  },
  {
   "cell_type": "code",
   "execution_count": 15,
   "metadata": {},
   "outputs": [
    {
     "name": "stdout",
     "output_type": "stream",
     "text": [
      "\n",
      " original array\n",
      " [[3 7 5]\n",
      " [8 4 3]\n",
      " [2 4 9]]\n",
      "\n",
      " row wise min : [3 3 2]\n",
      "\n",
      " column wise min : [2 4 3]\n",
      "\n",
      " row wise max : [7 8 9]\n",
      "\n",
      " overall max : 9\n",
      "\n",
      " overall min : 2\n",
      "\n",
      " Applying ptp() function:\n",
      "7\n",
      "\n",
      " Applying ptp() function along axis 1:\n",
      "[4 5 7]\n",
      "\n",
      " Applying ptp() function along axis 0:\n",
      "[6 3 6]\n",
      "Applying average() function again:\n",
      "2.0\n",
      "\n",
      " standard deviation of a  2.309401076758503\n",
      "\n",
      " variance of a  5.333333333333333\n"
     ]
    }
   ],
   "source": [
    "##NumPy - Statistical Functions \n",
    "## amin, amax\n",
    "### more functions mean(), median(), percentile()\n",
    "a = np.array([[3,7,5],[8,4,3],[2,4,9]]) \n",
    "print(\"\\n original array\\n\", a)\n",
    "print(\"\\n row wise min :\", np.amin(a,1))\n",
    "print(\"\\n column wise min :\", np.amin(a,0))\n",
    "print(\"\\n row wise max :\", np.amax(a,1))\n",
    "print(\"\\n overall max :\", np.amax(a))\n",
    "print(\"\\n overall min :\", np.amin(a))\n",
    "\n",
    "##The numpy.ptp() function returns the range (maximum-minimum) of values along an axis\n",
    "print ('\\n Applying ptp() function:' )\n",
    "print (np.ptp(a) )\n",
    "\n",
    "\n",
    "print ('\\n Applying ptp() function along axis 1:' )\n",
    "print (np.ptp(a, axis = 1) )\n",
    "\n",
    "\n",
    "print ('\\n Applying ptp() function along axis 0:')\n",
    "print( np.ptp(a, axis = 0) )\n",
    "\n",
    "b = np.array([1,2,3,4]) \n",
    "wts = np.array([4,3,2,1]) \n",
    "\n",
    "print ('Applying average() function again:' )\n",
    "print (np.average(b,weights = wts) ) # weighted average\n",
    "\n",
    "print(\"\\n standard deviation of a \", np.std(a)) # std = sqrt(mean(abs(x - x.mean())**2))\n",
    "print(\"\\n variance of a \", np.var(a)) # var= mean(abs(x - x.mean())**2)."
   ]
  },
  {
   "cell_type": "markdown",
   "metadata": {},
   "source": [
    "### NumPy - Sort, Search & Counting Functions\n",
    "$ numpy.sort(a, axis, kind, order)"
   ]
  },
  {
   "cell_type": "code",
   "execution_count": 16,
   "metadata": {},
   "outputs": [
    {
     "name": "stdout",
     "output_type": "stream",
     "text": [
      "Our array is:\n",
      "[(b'raju', 21) (b'anil', 25) (b'ravi', 17) (b'amar', 27)]\n",
      "\n",
      "\n",
      "Order by name:\n",
      "[(b'amar', 27) (b'anil', 25) (b'raju', 21) (b'ravi', 17)]\n"
     ]
    }
   ],
   "source": [
    "#dt = np.dtype([('name', 'str'),('age', int)]) \n",
    "dt = np.dtype([('name', 'S10'),('age', int)])  # S10 starts each string with b for bytes\n",
    "a = np.array([(\"raju\",21),(\"anil\",25),(\"ravi\", 17), (\"amar\",27)], dtype = dt) \n",
    "\n",
    "print ('Our array is:' )\n",
    "print( a )\n",
    "print ('\\n'  )\n",
    "\n",
    "print( 'Order by name:' )\n",
    "\n",
    "print (np.sort(a,  order = 'name', kind='heapsort'))\n",
    "#print (np.sort(a, kind='mergesort', order = 'name')) ## default kind=quicksort()"
   ]
  },
  {
   "cell_type": "code",
   "execution_count": 17,
   "metadata": {},
   "outputs": [
    {
     "name": "stdout",
     "output_type": "stream",
     "text": [
      "Our array is:\n",
      "[3 1 2]\n",
      "\n",
      "\n",
      "Applying argsort() to x:\n",
      "[1 2 0]\n",
      "\n",
      "\n",
      "Reconstruct original array in sorted order:\n",
      "[1 2 3]\n",
      "\n",
      "\n",
      "Reconstruct the original array using loop:\n",
      "1\n",
      "2\n",
      "3\n",
      "\n",
      " max value index is  0\n",
      "\n",
      " min value index is  1\n",
      "\n",
      "  Non-zero elements are  (array([0, 0, 1, 1, 2, 2]), array([0, 1, 1, 2, 0, 2]))\n"
     ]
    }
   ],
   "source": [
    "##argsort gives indices of sorting\n",
    "#numpy.lexsort() left for free time\n",
    "\n",
    "x = np.array([3, 1, 2]) \n",
    "\n",
    "print ('Our array is:' )\n",
    "print (x )\n",
    "print ('\\n'  )\n",
    "\n",
    "print ('Applying argsort() to x:' )\n",
    "y = np.argsort(x) \n",
    "print (y )\n",
    "print ('\\n'  )\n",
    "\n",
    "print ('Reconstruct original array in sorted order:' )\n",
    "print (x[y]) \n",
    "print ('\\n'  )\n",
    "\n",
    "print ('Reconstruct the original array using loop:' )\n",
    "for i in y: \n",
    "    print( x[i])\n",
    "    \n",
    "print (\"\\n max value index is \", np.argmax(x) ) #gives index of max value\n",
    "print (\"\\n min value index is \", np.argmin(x) ) #gives index of min value\n",
    "\n",
    "a = np.array([[30,40,0],[0,20,10],[50,0,60]]) \n",
    "print (\"\\n  Non-zero elements are \", np.nonzero(a))\n",
    "#numpy.nonzero() function returns the indices of non-zero elements in the input"
   ]
  },
  {
   "cell_type": "code",
   "execution_count": 18,
   "metadata": {},
   "outputs": [
    {
     "name": "stdout",
     "output_type": "stream",
     "text": [
      "Our array is:\n",
      "[[ 0.  1.  2.  3.]\n",
      " [ 4.  5.  6.  7.]\n",
      " [ 8.  9. 10. 11.]]\n",
      "Indices of elements > 3\n",
      "\n",
      " type of y  <class 'tuple'>\n",
      "(array([1, 1, 1, 1, 2, 2, 2, 2]), array([0, 1, 2, 3, 0, 1, 2, 3]))\n",
      "Use these indices to get elements satisfying the condition\n",
      "[ 4.  5.  6.  7.  8.  9. 10. 11.]\n"
     ]
    }
   ],
   "source": [
    "x = np.arange(12.).reshape(3, 4) \n",
    "\n",
    "print ('Our array is:' )\n",
    "print( x  )\n",
    "\n",
    "print ('Indices of elements > 3' )\n",
    "y = np.where(x > 3) # gives tuple for values x and y\n",
    "print(\"\\n type of y \", type(y))\n",
    "print (y  )\n",
    "\n",
    "print ('Use these indices to get elements satisfying the condition' )\n",
    "print( x[y])"
   ]
  },
  {
   "cell_type": "code",
   "execution_count": 19,
   "metadata": {},
   "outputs": [
    {
     "name": "stdout",
     "output_type": "stream",
     "text": [
      "Our array is:\n",
      "[[0. 1. 2.]\n",
      " [3. 4. 5.]\n",
      " [6. 7. 8.]]\n",
      "Element-wise value of condition\n",
      "[[ True False  True]\n",
      " [False  True False]\n",
      " [ True False  True]]\n",
      "Extract elements using condition\n",
      "[0. 2. 4. 6. 8.]\n"
     ]
    }
   ],
   "source": [
    "x = np.arange(9.).reshape(3, 3) \n",
    "\n",
    "print ('Our array is:' )\n",
    "print(x)\n",
    "# define a condition \n",
    "condition = np.mod(x,2) == 0 \n",
    "\n",
    "print ('Element-wise value of condition' )\n",
    "print (condition  )\n",
    "\n",
    "print ('Extract elements using condition' )\n",
    "print( np.extract(condition, x))"
   ]
  },
  {
   "cell_type": "code",
   "execution_count": 20,
   "metadata": {},
   "outputs": [
    {
     "name": "stdout",
     "output_type": "stream",
     "text": [
      "[3 4 5 2 1]\n",
      "[  0  20  40  60  80 100]\n"
     ]
    },
    {
     "data": {
      "text/plain": [
       "<Figure size 640x480 with 1 Axes>"
      ]
     },
     "metadata": {},
     "output_type": "display_data"
    }
   ],
   "source": [
    "from matplotlib import pyplot as plt \n",
    "a = np.array([22,87,5,43,56,73,55,54,11,20,51,5,79,31,27]) \n",
    "#np.histogram(a,bins = [0,20,40,60,80,100]) \n",
    "hist,bins = np.histogram(a,bins = [0,20,40,60,80,100]) #bins provide range for calculation\n",
    "print (hist) \n",
    "print (bins) \n",
    "plt.hist(a,bins = [0,20,40,60,80,100]) # histogram using matplotlib\n",
    "plt.show()\n"
   ]
  },
  {
   "cell_type": "markdown",
   "metadata": {},
   "source": [
    "### I/O with Numpy"
   ]
  },
  {
   "cell_type": "code",
   "execution_count": 21,
   "metadata": {},
   "outputs": [
    {
     "name": "stdout",
     "output_type": "stream",
     "text": [
      "[1 2 3 4 5]\n",
      "[1. 2. 3. 4. 5.]\n"
     ]
    }
   ],
   "source": [
    "a = np.array([1,2,3,4,5]) \n",
    "np.save('outfile',a) #save as outfile.npy\n",
    "b = np.load('outfile.npy') # load existing numpy file\n",
    "print (b) \n",
    "\n",
    "np.savetxt('out.txt',a) #save as text file\n",
    "b = np.loadtxt('out.txt') #load as text file\n",
    "print (b)"
   ]
  },
  {
   "cell_type": "markdown",
   "metadata": {},
   "source": [
    "## Scipy Tutorial\n",
    "#### sub-packages\n",
    "**scipy.cluster**\t *Vector quantization / Kmeans*\n",
    "\n",
    "**scipy.constants**\t Physical and mathematical constants\n",
    "\n",
    "**scipy.fftpack**\t Fourier transform\n",
    "\n",
    "**scipy.integrate**\t Integration routines\n",
    "\n",
    "**scipy.interpolate** Interpolation\n",
    "\n",
    "**scipy.io**\t     Data input and output\n",
    "\n",
    "**scipy.linalg**\t Linear algebra routines\n",
    "\n",
    "**scipy.ndimage**\t n-dimensional image package\n",
    "\n",
    "**scipy.odr**\t     Orthogonal distance regression\n",
    "\n",
    "**scipy.optimize**\t Optimization\n",
    "\n",
    "**scipy.signal**\t Signal processing\n",
    "\n",
    "**scipy.sparse**\t Sparse matrices\n",
    "\n",
    "**scipy.spatial**\t Spatial data structures and algorithms\n",
    "\n",
    "**scipy.special**\t Any special mathematical functions\n",
    "\n",
    "**scipy.stats**\t     Statistics\n",
    "\n",
    "Jupyter **--> bold *-->italic $-->mathematical symbol \n",
    "**hypen with 2 spaces--> bullets, one can use * with spaces  **"
   ]
  },
  {
   "cell_type": "code",
   "execution_count": 22,
   "metadata": {},
   "outputs": [
    {
     "name": "stdout",
     "output_type": "stream",
     "text": [
      "\n",
      " data \n",
      " [[3.49283335 2.14127659 2.59254198]\n",
      " [2.25761582 1.84866064 2.42602081]\n",
      " [2.26038066 1.8652442  1.41983114]\n",
      " [1.64998195 2.27659701 1.73731981]\n",
      " [2.61765522 3.15884262 3.33489354]\n",
      " [3.18305279 1.63848448 3.50364228]\n",
      " [1.56062856 3.37418305 2.50338666]\n",
      " [3.02892493 3.50517741 2.56384621]\n",
      " [1.55487953 2.58945291 3.00055693]\n",
      " [2.70088293 2.58023126 3.67686695]\n",
      " [3.14145413 3.60133058 3.05411028]\n",
      " [1.45663977 2.10356634 2.12176885]\n",
      " [3.46053885 2.42777418 3.49231643]\n",
      " [3.80995845 2.26578588 3.5619225 ]\n",
      " [2.69739953 1.78756653 2.03056426]\n",
      " [3.65369779 2.43273014 2.87137927]\n",
      " [2.40320326 3.86760274 2.95716078]\n",
      " [1.56867786 3.03665152 1.95889014]\n",
      " [2.12744421 1.36890061 1.52644526]\n",
      " [3.83348687 3.67118069 1.53390052]\n",
      " [2.30331377 2.814865   3.04442613]\n",
      " [2.62770035 1.74857924 1.37601429]\n",
      " [3.09329184 1.70218535 3.20230859]\n",
      " [2.31315871 3.82928757 2.77360839]\n",
      " [1.69854276 2.87509967 2.81172247]\n",
      " [3.70915991 1.99942137 2.81030632]\n",
      " [1.81259104 2.71676997 3.79697117]\n",
      " [2.37073436 1.47778767 3.17603084]\n",
      " [1.8388358  2.91835585 2.42963273]\n",
      " [1.44633327 2.35691202 1.57073715]\n",
      " [2.76480068 3.20847841 2.51041346]\n",
      " [2.27966625 3.82573367 2.87251023]\n",
      " [3.01501777 2.94926545 1.85758331]\n",
      " [2.34290891 3.4581253  1.60247558]\n",
      " [3.17112337 1.63259364 2.58998502]\n",
      " [2.01866022 2.96103502 2.99106897]\n",
      " [2.11066732 3.62537552 1.50456233]\n",
      " [2.99917008 3.3163777  2.52472354]\n",
      " [3.60405485 1.35113069 2.23403598]\n",
      " [2.91351793 2.63892103 1.75840873]\n",
      " [3.96242683 3.1855652  3.23136983]\n",
      " [2.18258091 1.53060675 3.57857883]\n",
      " [1.8156336  3.13619038 1.47536492]\n",
      " [2.72914658 2.18154335 2.95271593]\n",
      " [1.84107796 2.40331492 2.08717348]\n",
      " [3.44366678 2.33872458 3.23794832]\n",
      " [3.18155367 1.71747844 1.83148934]\n",
      " [2.19324389 1.62393421 3.19027761]\n",
      " [2.27423574 2.58181144 3.42161499]\n",
      " [1.71416082 3.03989194 3.26034754]\n",
      " [1.82630861 2.70083661 2.49606046]\n",
      " [1.82365858 3.04560532 2.52383581]\n",
      " [3.47632767 3.62835415 3.16138153]\n",
      " [3.26880068 1.66977876 3.76499615]\n",
      " [3.32212244 1.75460961 1.91872934]\n",
      " [2.76019985 1.50574436 2.33570361]\n",
      " [1.85839796 3.81549112 3.51766462]\n",
      " [3.1762176  2.72053318 2.81706263]\n",
      " [2.18281919 1.80945871 3.46211095]\n",
      " [1.92450868 3.4941611  3.45614453]\n",
      " [3.60838756 1.71932223 3.12889917]\n",
      " [3.35355017 3.7619765  1.92484194]\n",
      " [2.73382909 2.91758279 1.97030678]\n",
      " [3.52716095 2.01551072 2.12496164]\n",
      " [2.53669862 2.22777538 1.4576426 ]\n",
      " [3.97835508 2.95121499 3.83181864]\n",
      " [3.56275624 2.19589527 1.58870154]\n",
      " [3.83437588 2.35739785 2.55150439]\n",
      " [2.20668704 3.64191457 3.20715218]\n",
      " [1.60817381 2.28213791 2.87297721]\n",
      " [3.82244944 3.11623811 1.68401542]\n",
      " [2.9724225  3.02553029 3.0972166 ]\n",
      " [2.2916395  3.85928561 2.3226937 ]\n",
      " [3.56997146 3.66857097 2.30452542]\n",
      " [2.06513063 2.92735394 2.46529698]\n",
      " [3.99394361 1.80604114 1.5494145 ]\n",
      " [2.99392202 1.95823456 3.74389448]\n",
      " [1.48194382 3.48812322 2.8100229 ]\n",
      " [2.27803633 1.77784394 2.76892515]\n",
      " [1.75192096 2.2944747  1.97320567]\n",
      " [1.83753346 2.31922997 3.22456874]\n",
      " [2.34469375 1.79958135 3.87034427]\n",
      " [3.45522574 1.82839499 3.24176097]\n",
      " [2.97342117 1.9824427  3.81263833]\n",
      " [3.27865423 3.7697414  3.39836959]\n",
      " [1.5624175  2.07338911 3.39844248]\n",
      " [3.94754059 2.48270368 2.15953641]\n",
      " [1.79876843 1.89464493 1.72085435]\n",
      " [2.70956356 3.77915038 3.26711691]\n",
      " [3.26979735 3.84277669 2.10303287]\n",
      " [3.7561438  3.21159783 2.59919702]\n",
      " [3.14501267 2.53259888 3.67708268]\n",
      " [3.60143769 1.71831151 3.38676152]\n",
      " [1.87202545 1.35879962 2.06004375]\n",
      " [2.33126002 2.80910554 2.66053147]\n",
      " [1.7131418  3.06498687 3.38938645]\n",
      " [2.53092762 2.84881096 3.47222082]\n",
      " [1.42881113 1.7389934  3.67650853]\n",
      " [2.31452174 3.26120229 1.66784758]\n",
      " [1.80207146 2.95063128 2.7286264 ]\n",
      " [1.26322307 2.09223103 0.22863102]\n",
      " [1.28547402 0.07236004 1.36308671]\n",
      " [1.52568942 0.03887047 1.2014687 ]\n",
      " [2.3066429  2.00276145 0.56592108]\n",
      " [0.82593502 1.21064913 2.55390057]\n",
      " [1.85720937 0.07051826 2.35405237]\n",
      " [0.95767475 1.31006511 0.52458933]\n",
      " [0.57650847 0.16646418 0.54447854]\n",
      " [1.43950573 0.97962012 2.30453864]\n",
      " [0.46832179 1.87899602 1.82904002]\n",
      " [0.92796727 0.48556563 0.42349112]\n",
      " [1.34529242 1.32292791 2.09874331]\n",
      " [0.09831853 0.7363147  0.52593468]\n",
      " [0.17790024 1.71437674 1.97333723]\n",
      " [0.55193214 0.61357085 1.01780777]\n",
      " [2.09805496 0.36690172 0.35987006]\n",
      " [2.13293755 0.31860681 0.20879861]\n",
      " [2.49959168 2.33299403 0.00937526]\n",
      " [0.54421603 0.64400955 1.3567015 ]\n",
      " [2.21780325 0.28907366 1.90635389]\n",
      " [1.30484137 0.75442286 2.47435739]\n",
      " [0.01689558 1.16861669 2.43950501]\n",
      " [1.78707124 1.47929873 2.06973876]\n",
      " [0.25373298 0.5041632  2.49998133]\n",
      " [2.29740594 1.02754767 1.83725329]\n",
      " [0.56459656 0.75809383 0.18268117]\n",
      " [1.85536452 0.78497856 1.53133208]\n",
      " [0.15876546 2.56319968 0.7973028 ]\n",
      " [2.05114448 2.06951994 2.30628762]\n",
      " [2.45597343 0.44027641 1.79356611]\n",
      " [1.23814975 2.48709866 2.58551184]\n",
      " [0.27851967 0.33931841 0.63175866]\n",
      " [0.59755601 1.51506102 2.31916518]\n",
      " [1.12991516 1.91189408 0.42312398]\n",
      " [2.46668712 2.5344783  1.08041081]\n",
      " [1.66422535 0.29362285 0.65001857]\n",
      " [1.88268542 2.17411016 0.24372944]\n",
      " [0.76956664 2.06907149 1.63331165]\n",
      " [2.01054996 1.98371136 2.39778901]\n",
      " [0.44346873 1.66873996 1.34413679]\n",
      " [0.89737904 1.89902666 1.4704327 ]\n",
      " [0.78238371 2.1052072  2.13209373]\n",
      " [0.954245   2.10856832 0.37310475]\n",
      " [0.07477767 0.12109078 0.45225711]\n",
      " [1.05409942 0.48029946 0.11056674]\n",
      " [1.58489545 1.87125035 1.94786058]\n",
      " [0.29549289 2.04056556 1.84857071]\n",
      " [0.3741668  2.50316119 0.57907212]\n",
      " [1.01545653 0.68314559 2.54043978]\n",
      " [1.24467495 0.17950238 2.50397663]\n",
      " [2.57851152 1.62006643 1.48684751]\n",
      " [1.04539637 1.10892277 2.39230407]\n",
      " [1.69638329 2.56590835 0.38769024]\n",
      " [2.36522468 0.75811028 0.0833084 ]\n",
      " [0.92653987 2.38018782 2.35861539]\n",
      " [1.90631442 1.78804265 2.252183  ]\n",
      " [1.10466269 2.55273909 1.40251379]\n",
      " [2.1875452  0.52046526 0.69147088]\n",
      " [0.1998705  0.70948415 1.49221153]\n",
      " [0.5981847  0.10600329 0.61792939]\n",
      " [0.88953562 0.98463325 1.32070896]\n",
      " [1.0432819  2.40177727 0.31496978]\n",
      " [0.01817071 2.12192649 1.79356253]\n",
      " [0.31356707 0.97121639 1.22802136]\n",
      " [1.69497712 1.94763178 2.39503269]\n",
      " [0.78594619 1.70782548 2.15562099]\n",
      " [2.62263458 1.71714545 1.95152349]\n",
      " [1.14127416 1.03273409 2.03448386]\n",
      " [2.40536168 2.41221849 1.06242541]\n",
      " [0.09715073 1.07433136 1.49817996]\n",
      " [0.92461519 0.99673466 0.59538135]\n",
      " [0.08013346 1.01258892 0.50688615]\n",
      " [1.99312985 2.27877955 2.27629112]\n",
      " [0.91284974 1.11400846 2.37516992]\n",
      " [2.41412773 0.845903   0.07362869]\n",
      " [0.9935589  1.18970906 0.43649787]\n",
      " [1.45696135 0.79657592 0.13227259]\n",
      " [1.27072252 1.70746541 0.88870051]\n",
      " [1.43943114 0.88275268 1.29025397]\n",
      " [2.10885423 0.50930365 2.49443967]\n",
      " [2.2281172  0.69459956 1.54776718]\n",
      " [0.64595745 1.81130255 1.83725182]\n",
      " [2.28761798 1.9373302  2.57003296]\n",
      " [2.04598152 2.40867845 0.64697522]\n",
      " [1.17636659 2.00425748 0.50630491]\n",
      " [1.12949285 1.54250724 1.4523997 ]\n",
      " [1.65970144 1.90689341 1.08555879]\n",
      " [1.13075625 1.49304934 1.88073954]\n",
      " [2.03025387 2.49969392 1.41286213]\n",
      " [2.60591918 0.76259118 1.07837312]\n",
      " [1.78905782 0.62166534 2.06490921]\n",
      " [0.92394287 2.45286105 2.53689333]\n",
      " [1.99542513 1.36593836 2.54538774]\n",
      " [0.99089931 0.13796498 2.07791367]\n",
      " [1.15089733 0.40141235 1.07806733]\n",
      " [1.47168709 0.27161446 1.56355028]\n",
      " [2.55336699 0.76066169 0.08617904]\n",
      " [1.83887179 0.49835362 0.44704878]\n",
      " [1.18324161 0.38522132 1.18057501]\n",
      " [1.36933509 1.94205309 1.78287635]]\n",
      "Centroids are \n",
      " [[2.84271871 2.78661741 2.8023483 ]\n",
      " [1.57771754 1.7019976  2.14381197]\n",
      " [1.23227701 1.0508404  0.74049353]]\n",
      "Cluster: \n",
      " [0 1 1 1 0 0 0 0 1 0 0 1 0 0 1 0 0 1 1 0 0 1 0 0 0 0 0 1 0 1 0 0 0 0 0 0 0\n",
      " 0 0 0 0 1 1 0 1 0 0 1 0 0 0 0 0 0 0 1 0 0 0 0 0 0 0 0 1 0 0 0 0 1 0 0 0 0\n",
      " 0 0 0 0 1 1 0 0 0 0 0 1 0 1 0 0 0 0 0 1 0 0 0 1 0 0 2 2 2 2 1 1 2 2 1 1 2\n",
      " 1 2 1 2 2 2 2 2 1 1 1 1 1 1 2 2 2 1 1 1 2 1 2 1 2 2 1 1 2 1 1 2 2 2 1 1 2\n",
      " 1 1 1 1 2 2 1 1 1 2 2 2 2 2 1 2 1 1 1 1 1 2 2 2 1 1 2 2 2 2 2 1 2 1 1 2 2\n",
      " 1 2 1 1 2 1 1 1 2 2 2 2 2 2 1]\n"
     ]
    }
   ],
   "source": [
    "## K-means clustering Sci-py\n",
    "import scipy\n",
    "from scipy.cluster.vq import kmeans,vq,whiten #vq-vector quantization\n",
    "from numpy import vstack,array\n",
    "from numpy.random import rand\n",
    "\n",
    "# data generation with three features\n",
    "data = vstack((rand(100,3) + array([.5,.5,.5]),rand(100,3)))\n",
    "\n",
    "# whitening of data\n",
    "data = whiten(data)\n",
    "print(\"\\n data \\n\", data)\n",
    "# computing K-Means with K = 3 (2 clusters)\n",
    "centroids,_ = kmeans(data,3)\n",
    "print(\"Centroids are \\n\",centroids)\n",
    "# assign each sample to a cluster\n",
    "clx,_ = vq(data,centroids)\n",
    "print(\"Cluster: \\n\", clx)"
   ]
  },
  {
   "cell_type": "code",
   "execution_count": 23,
   "metadata": {},
   "outputs": [
    {
     "name": "stdout",
     "output_type": "stream",
     "text": [
      "[ 4.5       +0.j          2.08155948-1.65109876j -1.83155948+1.60822041j\n",
      " -1.83155948-1.60822041j  2.08155948+1.65109876j]\n",
      "[ 1. +0.j  2. +0.j  1. +0.j -1. +0.j  1.5+0.j]\n"
     ]
    }
   ],
   "source": [
    "##Fourier transform using scipy\n",
    "#Importing the fft and inverse fft functions from fftpackage\n",
    "#same like we can calculate dct FFT and all\n",
    "from scipy.fftpack import fft, ifft\n",
    "\n",
    "#create an array with random n numbers\n",
    "x = np.array([1.0, 2.0, 1.0, -1.0, 1.5])\n",
    "\n",
    "#Applying the fft function\n",
    "y = fft(x)\n",
    "print( y)\n",
    "#FFT is already in the workspace, using the same workspace to for inverse transform\n",
    "\n",
    "yinv = ifft(y)\n",
    "\n",
    "print (yinv)"
   ]
  },
  {
   "cell_type": "code",
   "execution_count": 24,
   "metadata": {},
   "outputs": [
    {
     "name": "stdout",
     "output_type": "stream",
     "text": [
      "(0.7468241328124271, 8.291413475940725e-15)\n",
      "(0.5, 1.7092350012594845e-14)\n"
     ]
    }
   ],
   "source": [
    "## Scipy Integration\n",
    "##https://www.tutorialspoint.com/scipy/scipy_integrate.htm\n",
    "import scipy.integrate\n",
    "from numpy import exp\n",
    "\n",
    "f= lambda x:exp(-x**2)\n",
    "i = scipy.integrate.quad(f, 0, 1)\n",
    "#first number integral and the second estimate of absolute error\n",
    "print( i)\n",
    "\n",
    "\n",
    "## Double integration\n",
    "from numpy import exp\n",
    "from math import sqrt\n",
    "f = lambda x, y : 16*x*y\n",
    "g = lambda x : 0\n",
    "h = lambda y : sqrt(1-4*y**2)\n",
    "i = scipy.integrate.dblquad(f, 0, 0.5, g, h) # for tripple integration tplquad,for nth nquad\n",
    "print (i)"
   ]
  },
  {
   "cell_type": "code",
   "execution_count": 25,
   "metadata": {},
   "outputs": [
    {
     "name": "stdout",
     "output_type": "stream",
     "text": [
      "[0.         0.36363636 0.72727273 1.09090909 1.45454545 1.81818182\n",
      " 2.18181818 2.54545455 2.90909091 3.27272727 3.63636364 4.        ] [-0.65364362 -0.61966189 -0.51077021 -0.31047698 -0.00715476  0.37976236\n",
      "  0.76715099  0.99239518  0.85886263  0.27994201 -0.52586509 -0.99582185]\n"
     ]
    },
    {
     "data": {
      "image/png": "[encoded data removed]",
      "text/plain": [
       "<Figure size 432x288 with 1 Axes>"
      ]
     },
     "metadata": {
      "needs_background": "light"
     },
     "output_type": "display_data"
    }
   ],
   "source": [
    "##Scipy-Interpolation\n",
    "##Interpolation is the process of finding a value between two points on a line or a curve\n",
    "from scipy import interpolate as intp\n",
    "import matplotlib.pyplot as plt\n",
    "x = np.linspace(0, 4, 12)\n",
    "y = np.cos(x**2/3+4)\n",
    "print (x,y)\n",
    "f1 = intp.interp1d(x, y,kind = 'linear') ##i-D interpolation\n",
    "\n",
    "f2 = intp.interp1d(x, y, kind = 'cubic')\n",
    "\n",
    "xnew = np.linspace(0, 4,30)\n",
    "\n",
    "plt.plot(x, y,'o', xnew, f1(xnew), '-', xnew, f2(xnew), '--')\n",
    "\n",
    "plt.legend(['data', 'linear', 'cubic',], loc = 'best') #legend for multiple graph in single \n",
    "##figure \n",
    "\n",
    "plt.show()"
   ]
  },
  {
   "cell_type": "code",
   "execution_count": 26,
   "metadata": {},
   "outputs": [
    {
     "data": {
      "image/png": "[encoded data removed]",
      "text/plain": [
       "<Figure size 432x288 with 1 Axes>"
      ]
     },
     "metadata": {
      "needs_background": "light"
     },
     "output_type": "display_data"
    }
   ],
   "source": [
    "from scipy.interpolate import UnivariateSpline\n",
    "x = np.linspace(-3, 3, 50)\n",
    "y = np.exp(-x**2) + 0.1 * np.random.randn(50)\n",
    "plt.figure()\n",
    "plt.plot(x, y, 'ro', ms = 5)\n",
    "#plt.show() #uncomment if want result in seperate figure\n",
    "\n",
    "spl = UnivariateSpline(x, y)\n",
    "xs = np.linspace(-3, 3, 1000)\n",
    "plt.plot(xs, spl(xs), 'g', lw = 3)\n",
    "#plt.show()\n",
    "\n",
    "spl.set_smoothing_factor(0.5)\n",
    "plt.plot(xs, spl(xs), 'b', lw = 3)\n",
    "plt.show()"
   ]
  },
  {
   "cell_type": "code",
   "execution_count": 27,
   "metadata": {},
   "outputs": [
    {
     "name": "stdout",
     "output_type": "stream",
     "text": [
      "{'__header__': b'MATLAB 5.0 MAT-file Platform: posix, Created on: Tue Feb 26 20:05:37 2019', '__version__': '1.0', '__globals__': [], 'vect': array([[0, 1, 2, 3, 4, 5, 6, 7, 8, 9]])}\n",
      "\n",
      " [('vect', (1, 10), 'int64')]\n"
     ]
    }
   ],
   "source": [
    "##Scipy IO\n",
    "import scipy.io as sio\n",
    "\n",
    "\n",
    "#Save a mat file\n",
    "vect = np.arange(10)\n",
    "sio.savemat('array.mat', {'vect':vect})\n",
    "\n",
    "#Now Load the File\n",
    "mat_file_content = sio.loadmat('array.mat')\n",
    "print (mat_file_content)\n",
    "\n",
    "mat_content = sio.whosmat('array.mat') #checking content of file without loading it\n",
    "print (\"\\n\",mat_content)"
   ]
  },
  {
   "cell_type": "markdown",
   "metadata": {},
   "source": [
    "## Linear Algebra:\n",
    "**Solving Linear rquation**\n",
    "\n",
    "x + 3y + 5z = 10\n",
    "\n",
    "2x + 5y + z = 8\n",
    "\n",
    "2x + 3y + 8z = 3"
   ]
  },
  {
   "cell_type": "code",
   "execution_count": 28,
   "metadata": {},
   "outputs": [
    {
     "name": "stdout",
     "output_type": "stream",
     "text": [
      "[ 2. -2.  9.]\n",
      "Determinant of matrix a \n",
      " -2.0\n",
      "Eigen values of matrix a \n",
      " [ 1.        +0.j -1.44948974+0.j  3.44948974+0.j]\n",
      "Eigen vectors of matrix a \n",
      " [[ 0.          0.19399248 -0.89052821]\n",
      " [ 0.         -0.43158379 -0.20014165]\n",
      " [ 1.          0.88096671 -0.40853743]]\n"
     ]
    }
   ],
   "source": [
    "#importing the scipy and numpy packages\n",
    "from scipy import linalg\n",
    "import numpy as np\n",
    "\n",
    "#Declaring the numpy arrays\n",
    "a = np.array([[3, 2, 0], [1, -1, 0], [0, 5, 1]])\n",
    "b = np.array([2, 4, -1])\n",
    "\n",
    "#Passing the values to the solve function\n",
    "x = linalg.solve(a, b)\n",
    "\n",
    "#printing the result array\n",
    "print (x)\n",
    "\n",
    "y = linalg.det(A)\n",
    "\n",
    "#printing the result\n",
    "print (\"Determinant of matrix a \\n\",y)\n",
    "\n",
    "#Passing the values to the eig function\n",
    "l, v = linalg.eig(a)\n",
    "\n",
    "#printing the result for eigen values\n",
    "print(\"Eigen values of matrix a \\n\", l)\n",
    "\n",
    "#printing the result for eigen vectors\n",
    "print(\"Eigen vectors of matrix a \\n\",v)"
   ]
  },
  {
   "cell_type": "markdown",
   "metadata": {},
   "source": [
    "## Singular value decomposition\n",
    "### (SVD) can be thought of as an extension of the eigenvalue problem to non square matrixes \n",
    "\n",
    "**svd factorizes the matrix ‘a’ into two unitary matrices ‘U’ and ‘Vh’ and a 1-D array ‘s’ of singular values (real, non-negative) such that a == U*S*Vh, where ‘S’ is a suitably shaped matrix of zeros with the main diagonal ‘s’.**"
   ]
  },
  {
   "cell_type": "code",
   "execution_count": 29,
   "metadata": {},
   "outputs": [
    {
     "name": "stdout",
     "output_type": "stream",
     "text": [
      "[[-0.02199745+0.76975257j -0.23035562-0.51142672j -0.2896831 -0.09197716j]\n",
      " [-0.19944731+0.39662727j  0.32052342+0.5711138j  -0.35271679+0.49959205j]\n",
      " [-0.30712718+0.33996702j -0.41567589+0.28928589j  0.72822002+0.05760348j]] [[ 0.65748774+0.j          0.11274726-0.74498183j]\n",
      " [ 0.75346524+0.j         -0.09838535+0.65008496j]] [5.51827033 2.20887614]\n"
     ]
    }
   ],
   "source": [
    "\n",
    "\n",
    "#Declaring the numpy array\n",
    "a = np.random.randn(3, 2) + 1.j*np.random.randn(3, 2)\n",
    "\n",
    "#Passing the values to the eig function\n",
    "U, s, Vh = linalg.svd(a)\n",
    "\n",
    "# printing the result\n",
    "print (U, Vh, s)"
   ]
  },
  {
   "cell_type": "markdown",
   "metadata": {},
   "source": [
    "Eigenvectors make understanding linear transformations easy. They are the \"axes\" (directions) along which a linear transformation acts simply by \"stretching/compressing\" and/or \"flipping\"; eigenvalues give you the factors by which this compression occurs.\n",
    "\n",
    "Consider a matrix A, for an example one representing a physical transformation (e.g rotation). When this matrix is used to transform a given vector x the result is y=Ax.\n",
    "\n",
    "Now an interesting question is\n",
    "\n",
    "Are there any vectors x which does not change it's direction under this transformation, but allow the vector magnitude to vary by scalar λ?\n",
    "\n",
    "Such a question is of the form\n",
    "\n",
    "Ax=λx\n",
    "\n",
    "So, such special x are called eigenvector(s) and the change in magnitude depends on the eigenvalue λ."
   ]
  },
  {
   "cell_type": "markdown",
   "metadata": {},
   "source": [
    "**The above parts from scipy yet to be discovered **\n",
    "\n",
    "## SciPy - Ndimage\n",
    "The SciPy ndimage submodule is dedicated to image processing. Here, ndimage means an n-dimensional image.\n",
    "\n",
    "Some of the most common tasks in image processing are as follows &miuns;\n",
    "\n",
    "Input/Output, displaying images\n",
    "Basic manipulations − Cropping, flipping, rotating, etc.\n",
    "Image filtering − De-noising, sharpening, etc.\n",
    "Image segmentation − Labeling pixels corresponding to different objects\n",
    "Classification\n",
    "Feature extraction\n",
    "Registration\n",
    "\n",
    "## SciPy - Optimize\n",
    "he scipy.optimize package provides several commonly used optimization algorithms. \n",
    "\n",
    "## SciPy - Stats\n",
    "## SciPy - CSGraph \n",
    "## SciPy - Spatial\n",
    "its for triangulation convex hull concave hull Qhull library\n"
   ]
  },
  {
   "cell_type": "markdown",
   "metadata": {},
   "source": [
    "## SciPy - ODR\n"
   ]
  },
  {
   "cell_type": "code",
   "execution_count": 30,
   "metadata": {},
   "outputs": [
    {
     "name": "stdout",
     "output_type": "stream",
     "text": [
      "Beta: [ 5.47413178 -4.13825523]\n",
      "Beta Std Error: [0.73775122 2.21090046]\n",
      "Beta Covariance: [[ 1.8898799  -4.72469971]\n",
      " [-4.72469971 16.97276947]]\n",
      "Residual Variance: 0.28799547653687424\n",
      "Inverse Condition #: 0.14710927223959175\n",
      "Reason(s) for Halting:\n",
      "  Sum of squares convergence\n"
     ]
    }
   ],
   "source": [
    "import numpy as np\n",
    "import matplotlib.pyplot as plt\n",
    "from scipy.odr import *\n",
    "import random\n",
    "\n",
    "# Initiate some data, giving some randomness using random.random().\n",
    "x = np.array([0, 1, 2, 3, 4, 5])\n",
    "y = np.array([i**2 + random.random() for i in x])\n",
    "\n",
    "# Define a function (quadratic in our case) to fit the data with.\n",
    "def linear_func(p, x):\n",
    "    m, c = p\n",
    "    return m*x + c\n",
    "\n",
    "# Create a model for fitting.\n",
    "linear_model = Model(linear_func)\n",
    "\n",
    "# Create a RealData object using our initiated data from above.\n",
    "data = RealData(x, y)\n",
    "\n",
    "# Set up ODR with the model and data.\n",
    "odr = ODR(data, linear_model, beta0=[0., 1.])\n",
    "\n",
    "# Run the regression.\n",
    "out = odr.run()\n",
    "\n",
    "# Use the in-built pprint method to give us results.\n",
    "out.pprint()"
   ]
  },
  {
   "cell_type": "code",
   "execution_count": null,
   "metadata": {},
   "outputs": [],
   "source": []
  },
  {
   "cell_type": "code",
   "execution_count": null,
   "metadata": {},
   "outputs": [],
   "source": []
  },
  {
   "cell_type": "code",
   "execution_count": null,
   "metadata": {},
   "outputs": [],
   "source": []
  }
 ],
 "metadata": {
  "kernelspec": {
   "display_name": "Python 3",
   "language": "python",
   "name": "python3"
  },
  "language_info": {
   "codemirror_mode": {
    "name": "ipython",
    "version": 3
   },
   "file_extension": ".py",
   "mimetype": "text/x-python",
   "name": "python",
   "nbconvert_exporter": "python",
   "pygments_lexer": "ipython3",
   "version": "3.7.1"
  }
 },
 "nbformat": 4,
 "nbformat_minor": 2
}
