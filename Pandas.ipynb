{
 "cells": [
  {
   "cell_type": "markdown",
   "metadata": {},
   "source": [
    "## Pandas Tutorial for beginers\n",
    "\n",
    "Dataframe id made up of series. series is array like structure. Column attributes are the keys of dictionary\n",
    "\n",
    "https://www.tutorialspoint.com/python_pandas/python_pandas_caveats_and_gotchas.htm"
   ]
  },
  {
   "cell_type": "code",
   "execution_count": 2,
   "metadata": {},
   "outputs": [
    {
     "name": "stdout",
     "output_type": "stream",
     "text": [
      "    Age    Name  Rating\n",
      "0    25     Tom    4.23\n",
      "1    26   James    3.24\n",
      "2    25   Ricky    3.98\n",
      "3    23     Vin    2.56\n",
      "4    30   Steve    3.20\n",
      "5    29   Smith    4.60\n",
      "6    23    Jack    3.80\n",
      "7    34     Lee    3.78\n",
      "8    40   David    2.98\n",
      "9    30  Gasper    4.80\n",
      "10   51  Betina    4.10\n",
      "11   46  Andres    3.65\n"
     ]
    }
   ],
   "source": [
    "import pandas as pd\n",
    "import numpy as np\n",
    "\n",
    "#Create a Dictionary of series\n",
    "d = {'Name':pd.Series(['Tom','James','Ricky','Vin','Steve','Smith','Jack',\n",
    "   'Lee','David','Gasper','Betina','Andres']),\n",
    "   'Age':pd.Series([25,26,25,23,30,29,23,34,40,30,51,46]),\n",
    "   'Rating':pd.Series([4.23,3.24,3.98,2.56,3.20,4.6,3.8,3.78,2.98,4.80,4.10,3.65])}\n",
    "\n",
    "#Create a DataFrame\n",
    "df = pd.DataFrame(d)\n",
    "print (df)"
   ]
  },
  {
   "cell_type": "code",
   "execution_count": 3,
   "metadata": {},
   "outputs": [
    {
     "name": "stdout",
     "output_type": "stream",
     "text": [
      "Age                                                     382\n",
      "Name      TomJamesRickyVinSteveSmithJackLeeDavidGasperBe...\n",
      "Rating                                                44.92\n",
      "dtype: object\n"
     ]
    }
   ],
   "source": [
    "print (df.sum())"
   ]
  },
  {
   "cell_type": "code",
   "execution_count": 4,
   "metadata": {},
   "outputs": [
    {
     "name": "stdout",
     "output_type": "stream",
     "text": [
      "0     29.23\n",
      "1     29.24\n",
      "2     28.98\n",
      "3     25.56\n",
      "4     33.20\n",
      "5     33.60\n",
      "6     26.80\n",
      "7     37.78\n",
      "8     42.98\n",
      "9     34.80\n",
      "10    55.10\n",
      "11    49.65\n",
      "dtype: float64\n"
     ]
    }
   ],
   "source": [
    "print (df.sum(1))"
   ]
  },
  {
   "cell_type": "code",
   "execution_count": 5,
   "metadata": {},
   "outputs": [
    {
     "name": "stdout",
     "output_type": "stream",
     "text": [
      "Age       31.833333\n",
      "Rating     3.743333\n",
      "dtype: float64\n"
     ]
    }
   ],
   "source": [
    "print (df.mean())\n"
   ]
  },
  {
   "cell_type": "code",
   "execution_count": 6,
   "metadata": {},
   "outputs": [
    {
     "name": "stdout",
     "output_type": "stream",
     "text": [
      "Age       9.232682\n",
      "Rating    0.661628\n",
      "dtype: float64\n"
     ]
    }
   ],
   "source": [
    "print (df.std())"
   ]
  },
  {
   "cell_type": "code",
   "execution_count": 7,
   "metadata": {},
   "outputs": [
    {
     "name": "stdout",
     "output_type": "stream",
     "text": [
      "             Age     Rating\n",
      "count  12.000000  12.000000\n",
      "mean   31.833333   3.743333\n",
      "std     9.232682   0.661628\n",
      "min    23.000000   2.560000\n",
      "25%    25.000000   3.230000\n",
      "50%    29.500000   3.790000\n",
      "75%    35.500000   4.132500\n",
      "max    51.000000   4.800000\n"
     ]
    }
   ],
   "source": [
    "print (df.describe())"
   ]
  },
  {
   "cell_type": "code",
   "execution_count": 8,
   "metadata": {},
   "outputs": [
    {
     "name": "stdout",
     "output_type": "stream",
     "text": [
      "          Name\n",
      "count       12\n",
      "unique      12\n",
      "top     Betina\n",
      "freq         1\n",
      "             Age     Rating\n",
      "count  12.000000  12.000000\n",
      "mean   31.833333   3.743333\n",
      "std     9.232682   0.661628\n",
      "min    23.000000   2.560000\n",
      "25%    25.000000   3.230000\n",
      "50%    29.500000   3.790000\n",
      "75%    35.500000   4.132500\n",
      "max    51.000000   4.800000\n"
     ]
    }
   ],
   "source": [
    "print (df.describe(include=['object']))\n",
    "print (df.describe(include=['number'])) #all"
   ]
  },
  {
   "cell_type": "code",
   "execution_count": 9,
   "metadata": {},
   "outputs": [
    {
     "name": "stdout",
     "output_type": "stream",
     "text": [
      "              Age    Name     Rating\n",
      "count   12.000000      12  12.000000\n",
      "unique        NaN      12        NaN\n",
      "top           NaN  Betina        NaN\n",
      "freq          NaN       1        NaN\n",
      "mean    31.833333     NaN   3.743333\n",
      "std      9.232682     NaN   0.661628\n",
      "min     23.000000     NaN   2.560000\n",
      "25%     25.000000     NaN   3.230000\n",
      "50%     29.500000     NaN   3.790000\n",
      "75%     35.500000     NaN   4.132500\n",
      "max     51.000000     NaN   4.800000\n"
     ]
    }
   ],
   "source": [
    "print (df.describe(include='all'))"
   ]
  },
  {
   "cell_type": "markdown",
   "metadata": {},
   "source": [
    "### For tablewise operation use Pipe method\n",
    "### For row wise and column operation use apply method. axis=0 for column and axis=1 for row \n",
    "### applymap() on DataFrame and map() on Series"
   ]
  },
  {
   "cell_type": "code",
   "execution_count": 10,
   "metadata": {},
   "outputs": [
    {
     "name": "stdout",
     "output_type": "stream",
     "text": [
      "Original table : \n",
      "        col1      col2      col3\n",
      "0 -0.090217  2.695045 -0.376356\n",
      "1  0.582716  0.370650  1.189880\n",
      "2  0.885644 -0.111126 -0.789732\n",
      "3  1.146273  1.793435  0.606564\n",
      "4  0.439006  0.633028 -0.385716 \n",
      "\n",
      " After adding 2 by tablewise operation\n",
      "       col1      col2      col3\n",
      "0  1.909783  4.695045  1.623644\n",
      "1  2.582716  2.370650  3.189880\n",
      "2  2.885644  1.888874  1.210268\n",
      "3  3.146273  3.793435  2.606564\n",
      "4  2.439006  2.633028  1.614284\n"
     ]
    }
   ],
   "source": [
    "##Table-wise operation\n",
    "def adder(ele1,ele2):\n",
    "   return ele1+ele2\n",
    "\n",
    "df_tablewise = pd.DataFrame(np.random.randn(5,3),columns=['col1','col2','col3'])\n",
    "print(\"Original table : \\n {} \" .format(df_tablewise))\n",
    "print(\"\\n After adding 2 by tablewise operation\")\n",
    "\n",
    "print (df_tablewise.pipe(adder,2))"
   ]
  },
  {
   "cell_type": "code",
   "execution_count": 11,
   "metadata": {},
   "outputs": [
    {
     "name": "stdout",
     "output_type": "stream",
     "text": [
      "       col1      col2      col3\n",
      "0  1.100540 -1.600753 -0.478333\n",
      "1 -1.518344  1.038498 -0.465848\n",
      "2 -0.477057  1.911725 -0.373851\n",
      "3  0.983516  0.922755 -0.208105\n",
      "4  0.373201 -0.819358  0.064358\n",
      "col1    0.092371\n",
      "col2    0.290573\n",
      "col3   -0.292356\n",
      "dtype: float64\n"
     ]
    }
   ],
   "source": [
    "## Row or Column Wise Function Application##\n",
    "\n",
    "df_columnwise = pd.DataFrame(np.random.randn(5,3),columns=['col1','col2','col3'])\n",
    "print (df_columnwise)\n",
    "print (df_columnwise.apply(np.mean)) #provided that data should be numbers\n",
    "#print (df.apply(np.mean))"
   ]
  },
  {
   "cell_type": "code",
   "execution_count": 12,
   "metadata": {},
   "outputs": [
    {
     "name": "stdout",
     "output_type": "stream",
     "text": [
      "       col1      col2      col3\n",
      "0 -1.088518  0.211017  1.729459\n",
      "1  1.996009  0.125592 -0.430946\n",
      "2  1.288155  1.598405 -0.432954\n",
      "3 -0.770194  0.220906 -0.406921\n",
      "4 -2.195130 -0.109077 -1.990317\n",
      "0    0.283986\n",
      "1    0.563552\n",
      "2    0.817869\n",
      "3   -0.318736\n",
      "4   -1.431508\n",
      "dtype: float64\n"
     ]
    }
   ],
   "source": [
    "df_rowwise = pd.DataFrame(np.random.randn(5,3),columns=['col1','col2','col3'])\n",
    "print (df_rowwise)\n",
    "print (df_rowwise.apply(np.mean, axis=1)) # axis=0 for columnwise nad axis =1 for rowwise\n",
    "#print (df.apply(np.mean))"
   ]
  },
  {
   "cell_type": "code",
   "execution_count": 13,
   "metadata": {},
   "outputs": [
    {
     "name": "stdout",
     "output_type": "stream",
     "text": [
      "       col1      col2      col3\n",
      "0 -0.681562  0.103267 -1.758597\n",
      "1 -0.239517  2.119926 -1.906390\n",
      "2  0.841591 -1.268436 -1.521041\n",
      "3 -0.513057 -0.062581  1.515241\n",
      "4  0.760264 -0.876782  0.633581\n",
      "        col1        col2        col3\n",
      "0 -68.156163   10.326747 -175.859706\n",
      "1 -23.951723  211.992628 -190.638962\n",
      "2  84.159074 -126.843628 -152.104099\n",
      "3 -51.305677   -6.258117  151.524081\n",
      "4  76.026438  -87.678195   63.358141\n",
      "col1     3.354390\n",
      "col2     0.307887\n",
      "col3   -60.744109\n",
      "dtype: float64\n"
     ]
    },
    {
     "data": {
      "text/plain": [
       "0   -68.156163\n",
       "1   -23.951723\n",
       "2    84.159074\n",
       "3   -51.305677\n",
       "4    76.026438\n",
       "Name: col1, dtype: float64"
      ]
     },
     "execution_count": 13,
     "metadata": {},
     "output_type": "execute_result"
    }
   ],
   "source": [
    "\n",
    "df_elementwise = pd.DataFrame(np.random.randn(5,3),columns=['col1','col2','col3'])\n",
    "print (df_elementwise)\n",
    "# My custom function\n",
    "op=df_elementwise.applymap(lambda x:x*100)\n",
    "print (op)\n",
    "print (op.apply(np.mean))\n",
    "df_elementwise['col1'].map(lambda x:x*100)"
   ]
  },
  {
   "cell_type": "code",
   "execution_count": 14,
   "metadata": {},
   "outputs": [
    {
     "name": "stdout",
     "output_type": "stream",
     "text": [
      "            A       C           D     x         y\n",
      "0  2016-01-01    High  100.643373   0.0  0.511131\n",
      "1  2016-01-02  Medium  108.581292   1.0  0.001283\n",
      "2  2016-01-03  Medium   96.751823   2.0  0.818533\n",
      "3  2016-01-04  Medium  105.848012   3.0  0.540795\n",
      "4  2016-01-05  Medium   96.826111   4.0  0.058898\n",
      "5  2016-01-06     Low   92.705612   5.0  0.626541\n",
      "6  2016-01-07  Medium   96.131750   6.0  0.960543\n",
      "7  2016-01-08    High   87.629541   7.0  0.448567\n",
      "8  2016-01-09  Medium  105.285799   8.0  0.545246\n",
      "9  2016-01-10     Low   97.922877   9.0  0.644142\n",
      "10 2016-01-11     Low  108.723102  10.0  0.481546\n",
      "11 2016-01-12    High  116.668950  11.0  0.063671\n",
      "12 2016-01-13  Medium  110.322222  12.0  0.262700\n",
      "13 2016-01-14     Low  117.041478  13.0  0.358760\n",
      "14 2016-01-15     Low   89.992169  14.0  0.507247\n",
      "15 2016-01-16  Medium  110.317834  15.0  0.288633\n",
      "16 2016-01-17  Medium  101.453538  16.0  0.167449\n",
      "17 2016-01-18    High  122.123260  17.0  0.026753\n",
      "18 2016-01-19    High   99.367405  18.0  0.030646\n",
      "19 2016-01-20     Low  103.467773  19.0  0.236332\n",
      "           A       C   B\n",
      "0 2016-01-01    High NaN\n",
      "2 2016-01-03  Medium NaN\n",
      "5 2016-01-06     Low NaN\n"
     ]
    }
   ],
   "source": [
    "import pandas as pd\n",
    "import numpy as np\n",
    "\n",
    "N=20\n",
    "\n",
    "df_reindex = pd.DataFrame({\n",
    "   'A': pd.date_range(start='2016-01-01',periods=N,freq='D'),\n",
    "   'x': np.linspace(0,stop=N-1,num=N),\n",
    "   'y': np.random.rand(N),\n",
    "   'C': np.random.choice(['Low','Medium','High'],N).tolist(),\n",
    "   'D': np.random.normal(100, 10, size=(N)).tolist()\n",
    "})\n",
    "print(df_reindex)\n",
    "\n",
    "#reindex the DataFrame\n",
    "df_reindexed =df_reindex.reindex(index=[0,2,5], columns=['A', 'C', 'B'])\n",
    "\n",
    "print (df_reindexed)\n"
   ]
  },
  {
   "cell_type": "code",
   "execution_count": 15,
   "metadata": {},
   "outputs": [
    {
     "name": "stdout",
     "output_type": "stream",
     "text": [
      "       col1      col2      col3\n",
      "0 -1.645804 -0.744685  0.854365\n",
      "1 -1.124161 -0.640525 -0.398708\n",
      "2  0.496494  0.080720 -1.321825\n",
      "3  0.524631 -0.516820 -0.937857\n",
      "4 -0.791926  1.609062  0.252623\n",
      "5 -0.055080  0.504395  0.174971\n",
      "6  0.956794 -0.373322 -1.922671\n",
      "7  1.267372 -0.641199 -0.009544\n",
      "8  1.467718 -1.441405  1.609548\n",
      "9 -1.660814  1.958017 -0.691134\n",
      "       col1      col2      col3\n",
      "0  0.473949  0.278691  0.264434\n",
      "1  0.115384 -1.132005 -0.010719\n",
      "2  0.480896 -0.696112  1.138208\n",
      "3 -0.791644 -0.491852 -1.229566\n",
      "4 -1.380360 -1.762930 -0.304683\n",
      "5 -1.412080 -0.510061  0.341065\n",
      "6 -0.851643 -0.606486 -1.615576\n",
      "       col1      col2      col3\n",
      "0 -1.645804 -0.744685  0.854365\n",
      "1 -1.124161 -0.640525 -0.398708\n",
      "2  0.496494  0.080720 -1.321825\n",
      "3  0.524631 -0.516820 -0.937857\n",
      "4 -0.791926  1.609062  0.252623\n",
      "5 -0.055080  0.504395  0.174971\n",
      "6  0.956794 -0.373322 -1.922671\n"
     ]
    }
   ],
   "source": [
    "\n",
    "\n",
    "df1 = pd.DataFrame(np.random.randn(10,3),columns=['col1','col2','col3'])\n",
    "df2 = pd.DataFrame(np.random.randn(7,3),columns=['col1','col2','col3'])\n",
    "print(df1)\n",
    "print(df2)\n",
    "df1 = df1.reindex_like(df2)\n",
    "print (df1)"
   ]
  },
  {
   "cell_type": "code",
   "execution_count": 16,
   "metadata": {},
   "outputs": [
    {
     "name": "stdout",
     "output_type": "stream",
     "text": [
      "       col1      col2      col3\n",
      "0 -0.412307 -1.437887  0.510593\n",
      "1  0.868962  0.237250  1.548757\n",
      "2 -0.495618  0.085149 -0.781806\n",
      "3 -0.126727 -0.332800  0.348392\n",
      "4 -1.256377  0.185931 -0.053665\n",
      "5 -0.090520  1.304386  0.065028\n",
      "6  1.711249 -0.027248  0.021148\n",
      "7       NaN       NaN       NaN\n",
      "8       NaN       NaN       NaN\n",
      "9       NaN       NaN       NaN\n",
      "Data Frame with Forward Fill:\n",
      "       col1      col2      col3\n",
      "0 -0.412307 -1.437887  0.510593\n",
      "1  0.868962  0.237250  1.548757\n",
      "2 -0.495618  0.085149 -0.781806\n",
      "3 -0.126727 -0.332800  0.348392\n",
      "4 -1.256377  0.185931 -0.053665\n",
      "5 -0.090520  1.304386  0.065028\n",
      "6  1.711249 -0.027248  0.021148\n",
      "7       NaN       NaN       NaN\n",
      "8       NaN       NaN       NaN\n",
      "9       NaN       NaN       NaN\n"
     ]
    }
   ],
   "source": [
    "df1 = pd.DataFrame(np.random.randn(10,3),columns=['col1','col2','col3'])\n",
    "df2 = pd.DataFrame(np.random.randn(7,3),columns=['col1','col2','col3'])\n",
    "\n",
    "# Padding NAN's\n",
    "print (df2.reindex_like(df1))\n",
    "\n",
    "# Now Fill the NAN's with preceding Values\n",
    "print (\"Data Frame with Forward Fill:\")\n",
    "print (df2.reindex_like(df1,method='bfill', limit=1)) #limit 1 indicate fill only 1 row"
   ]
  },
  {
   "cell_type": "code",
   "execution_count": 17,
   "metadata": {},
   "outputs": [
    {
     "name": "stdout",
     "output_type": "stream",
     "text": [
      "       col1      col2      col3\n",
      "0 -0.080258  1.325088  1.040284\n",
      "1 -1.145130 -1.666996  0.055101\n",
      "2 -0.661714  0.743855 -0.084741\n",
      "3 -1.025140  0.347018 -1.922492\n",
      "4  0.653690 -0.971849  1.807065\n",
      "5 -0.499134  0.296926 -1.007989\n",
      "After renaming the rows and columns:\n",
      "              c1        c2      col3\n",
      "apple  -0.080258  1.325088  1.040284\n",
      "banana -1.145130 -1.666996  0.055101\n",
      "durian -0.661714  0.743855 -0.084741\n",
      "3      -1.025140  0.347018 -1.922492\n",
      "4       0.653690 -0.971849  1.807065\n",
      "5      -0.499134  0.296926 -1.007989\n"
     ]
    }
   ],
   "source": [
    "\n",
    "\n",
    "df1 = pd.DataFrame(np.random.randn(6,3),columns=['col1','col2','col3'])\n",
    "print (df1)\n",
    "\n",
    "print (\"After renaming the rows and columns:\")\n",
    "print (df1.rename(columns={'col1' : 'c1', 'col2' : 'c2'},\n",
    "index = {0 : 'apple', 1 : 'banana', 2 : 'durian'}))"
   ]
  },
  {
   "cell_type": "markdown",
   "metadata": {},
   "source": [
    "### Iterating a DataFrame"
   ]
  },
  {
   "cell_type": "code",
   "execution_count": 17,
   "metadata": {},
   "outputs": [
    {
     "name": "stdout",
     "output_type": "stream",
     "text": [
      "            A       C           D     x         y\n",
      "0  2016-01-01     Low   84.883378   0.0  0.567720\n",
      "1  2016-01-02  Medium   95.580244   1.0  0.997350\n",
      "2  2016-01-03     Low  107.119287   2.0  0.899794\n",
      "3  2016-01-04    High   95.251726   3.0  0.815979\n",
      "4  2016-01-05  Medium  104.306719   4.0  0.463980\n",
      "5  2016-01-06    High   90.789083   5.0  0.363042\n",
      "6  2016-01-07     Low   93.480242   6.0  0.786905\n",
      "7  2016-01-08  Medium  102.709582   7.0  0.057324\n",
      "8  2016-01-09     Low  115.461281   8.0  0.774065\n",
      "9  2016-01-10     Low  102.897640   9.0  0.474180\n",
      "10 2016-01-11     Low  100.695084  10.0  0.465272\n",
      "11 2016-01-12    High  103.751359  11.0  0.529568\n",
      "12 2016-01-13  Medium   93.150592  12.0  0.682109\n",
      "13 2016-01-14  Medium   91.875674  13.0  0.381299\n",
      "14 2016-01-15     Low  107.861015  14.0  0.547584\n",
      "15 2016-01-16     Low  106.786716  15.0  0.155357\n",
      "16 2016-01-17  Medium  114.870966  16.0  0.686068\n",
      "17 2016-01-18     Low  101.977740  17.0  0.176387\n",
      "18 2016-01-19    High   89.155408  18.0  0.154651\n",
      "19 2016-01-20  Medium   85.169544  19.0  0.971436\n",
      "A\n",
      "C\n",
      "D\n",
      "x\n",
      "y\n"
     ]
    }
   ],
   "source": [
    "## Three methods 1. iteritems, iterrows, itertuples\n",
    " \n",
    "N=20\n",
    "\n",
    "df = pd.DataFrame({\n",
    "    'A': pd.date_range(start='2016-01-01',periods=N,freq='D'),\n",
    "    'x': np.linspace(0,stop=N-1,num=N),\n",
    "    'y': np.random.rand(N),\n",
    "    'C': np.random.choice(['Low','Medium','High'],N).tolist(),\n",
    "    'D': np.random.normal(100, 10, size=(N)).tolist()\n",
    "    })\n",
    "print(df)\n",
    "for col in df:\n",
    "   print (col)"
   ]
  },
  {
   "cell_type": "code",
   "execution_count": 18,
   "metadata": {},
   "outputs": [
    {
     "name": "stdout",
     "output_type": "stream",
     "text": [
      "       col1      col2      col3\n",
      "0 -0.594654  2.054347 -1.460871\n",
      "1 -0.187123  0.828912  1.492345\n",
      "2  2.217929  0.665804 -0.345382\n",
      "3 -0.194698 -0.098465 -1.529098\n",
      "col1 \n",
      " 0   -0.594654\n",
      "1   -0.187123\n",
      "2    2.217929\n",
      "3   -0.194698\n",
      "Name: col1, dtype: float64\n",
      "col2 \n",
      " 0    2.054347\n",
      "1    0.828912\n",
      "2    0.665804\n",
      "3   -0.098465\n",
      "Name: col2, dtype: float64\n",
      "col3 \n",
      " 0   -1.460871\n",
      "1    1.492345\n",
      "2   -0.345382\n",
      "3   -1.529098\n",
      "Name: col3, dtype: float64\n"
     ]
    }
   ],
   "source": [
    "### Row wise iterate \n",
    "df = pd.DataFrame(np.random.randn(4,3),columns=['col1','col2','col3'])\n",
    "print(df)\n",
    "for key,value in df.iteritems():\n",
    "   print (key,\"\\n\",value)\n",
    "   #print (type(value)) ## returns pandas series"
   ]
  },
  {
   "cell_type": "code",
   "execution_count": 19,
   "metadata": {},
   "outputs": [
    {
     "name": "stdout",
     "output_type": "stream",
     "text": [
      "0 col1   -0.257890\n",
      "col2   -0.054964\n",
      "col3   -0.751792\n",
      "Name: 0, dtype: float64\n",
      "1 col1    2.778987\n",
      "col2   -0.458964\n",
      "col3    0.155592\n",
      "Name: 1, dtype: float64\n",
      "2 col1    0.611758\n",
      "col2   -0.543063\n",
      "col3   -0.545756\n",
      "Name: 2, dtype: float64\n",
      "3 col1    1.274010\n",
      "col2    0.450269\n",
      "col3   -1.140190\n",
      "Name: 3, dtype: float64\n"
     ]
    }
   ],
   "source": [
    "df = pd.DataFrame(np.random.randn(4,3),columns = ['col1','col2','col3'])\n",
    "for row_index,row in df.iterrows():\n",
    "   print (row_index,row)\n",
    "   #print (type(row)) # pandas series"
   ]
  },
  {
   "cell_type": "code",
   "execution_count": 20,
   "metadata": {},
   "outputs": [
    {
     "name": "stdout",
     "output_type": "stream",
     "text": [
      "Pandas(Index=0, col1=0.9923058217911901, col2=-1.7342858988278416, col3=-0.5843623481436702)\n",
      "Pandas(Index=1, col1=1.408743046704375, col2=0.5266271510103488, col3=0.33229571182073003)\n",
      "Pandas(Index=2, col1=-0.5879607779970969, col2=-0.05870549512392791, col3=-1.7540023948233756)\n",
      "Pandas(Index=3, col1=0.03168187222139993, col2=0.5200611886312895, col3=0.5966823256521085)\n"
     ]
    }
   ],
   "source": [
    "df = pd.DataFrame(np.random.randn(4,3),columns = ['col1','col2','col3'])\n",
    "for row in df.itertuples():\n",
    "    print (row)\n",
    "    #print(type(row)) returns list "
   ]
  },
  {
   "cell_type": "code",
   "execution_count": 21,
   "metadata": {},
   "outputs": [
    {
     "name": "stdout",
     "output_type": "stream",
     "text": [
      "       col2      col1\n",
      "1  0.866470 -0.750190\n",
      "4 -1.734987  1.711044\n",
      "6 -0.802886 -0.210852\n",
      "2 -1.671852  0.149286\n",
      "3 -0.371271  0.452764\n",
      "5 -0.449714 -1.208496\n",
      "9 -0.587779 -0.161953\n",
      "8  0.861039  0.724994\n",
      "0  2.659544  1.009009\n",
      "7  1.295947 -0.960772\n"
     ]
    }
   ],
   "source": [
    "##Python Pandas - Sorting\n",
    "## methods 1. by index 2. by actual values\n",
    "unsorted_df=pd.DataFrame(np.random.randn(10,2),index=[1,4,6,2,3,5,9,8,0,7],columns=['col2','col1'])\n",
    "print (unsorted_df)"
   ]
  },
  {
   "cell_type": "code",
   "execution_count": 22,
   "metadata": {},
   "outputs": [
    {
     "name": "stdout",
     "output_type": "stream",
     "text": [
      "       col2      col1\n",
      "0  2.659544  1.009009\n",
      "1  0.866470 -0.750190\n",
      "2 -1.671852  0.149286\n",
      "3 -0.371271  0.452764\n",
      "4 -1.734987  1.711044\n",
      "5 -0.449714 -1.208496\n",
      "6 -0.802886 -0.210852\n",
      "7  1.295947 -0.960772\n",
      "8  0.861039  0.724994\n",
      "9 -0.587779 -0.161953\n"
     ]
    }
   ],
   "source": [
    "sorted_df=unsorted_df.sort_index()\n",
    "print (sorted_df)"
   ]
  },
  {
   "cell_type": "code",
   "execution_count": 23,
   "metadata": {},
   "outputs": [
    {
     "name": "stdout",
     "output_type": "stream",
     "text": [
      "       col2      col1\n",
      "9 -0.587779 -0.161953\n",
      "8  0.861039  0.724994\n",
      "7  1.295947 -0.960772\n",
      "6 -0.802886 -0.210852\n",
      "5 -0.449714 -1.208496\n",
      "4 -1.734987  1.711044\n",
      "3 -0.371271  0.452764\n",
      "2 -1.671852  0.149286\n",
      "1  0.866470 -0.750190\n",
      "0  2.659544  1.009009\n"
     ]
    }
   ],
   "source": [
    "##order of sorting\n",
    "sorted_df = unsorted_df.sort_index(ascending=False)\n",
    "print (sorted_df)"
   ]
  },
  {
   "cell_type": "code",
   "execution_count": 24,
   "metadata": {},
   "outputs": [
    {
     "name": "stdout",
     "output_type": "stream",
     "text": [
      "       col2      col1\n",
      "1  0.866470 -0.750190\n",
      "4 -1.734987  1.711044\n",
      "6 -0.802886 -0.210852\n",
      "2 -1.671852  0.149286\n",
      "3 -0.371271  0.452764\n",
      "5 -0.449714 -1.208496\n",
      "9 -0.587779 -0.161953\n",
      "8  0.861039  0.724994\n",
      "0  2.659544  1.009009\n",
      "7  1.295947 -0.960772\n",
      "       col1      col2\n",
      "1 -0.750190  0.866470\n",
      "4  1.711044 -1.734987\n",
      "6 -0.210852 -0.802886\n",
      "2  0.149286 -1.671852\n",
      "3  0.452764 -0.371271\n",
      "5 -1.208496 -0.449714\n",
      "9 -0.161953 -0.587779\n",
      "8  0.724994  0.861039\n",
      "0  1.009009  2.659544\n",
      "7 -0.960772  1.295947\n"
     ]
    }
   ],
   "source": [
    "print (unsorted_df)\n",
    "sorted_df=unsorted_df.sort_index(axis=1)# by default axis=0 hence column wise sorting\n",
    "\n",
    "print (sorted_df)"
   ]
  },
  {
   "cell_type": "code",
   "execution_count": 25,
   "metadata": {},
   "outputs": [
    {
     "name": "stdout",
     "output_type": "stream",
     "text": [
      "   col1  col2\n",
      "0     2     1\n",
      "1     1     3\n",
      "2     1     2\n",
      "3     1     4\n",
      "   col1  col2\n",
      "1     1     3\n",
      "2     1     2\n",
      "3     1     4\n",
      "0     2     1\n",
      "   col1  col2\n",
      "1     1     3\n",
      "2     1     2\n",
      "3     1     4\n",
      "0     2     1\n"
     ]
    }
   ],
   "source": [
    "## sorting by value\n",
    "unsorted_df = pd.DataFrame({'col1':[2,1,1,1],'col2':[1,3,2,4]})\n",
    "sorted_df = unsorted_df.sort_values(by='col1')\n",
    "print (unsorted_df)\n",
    "print (sorted_df)\n",
    "\n",
    "sorted_df = unsorted_df.sort_values(by='col1' ,kind='mergesort')\n",
    "\n",
    "print (sorted_df)"
   ]
  },
  {
   "cell_type": "code",
   "execution_count": 26,
   "metadata": {},
   "outputs": [
    {
     "name": "stdout",
     "output_type": "stream",
     "text": [
      "60\n",
      "20\n",
      "\n",
      "\n",
      "90\n",
      "45\n",
      "\n",
      "\n",
      "60\n",
      "20\n",
      "\n",
      "\n",
      "10\n",
      "20\n"
     ]
    }
   ],
   "source": [
    "###Pandas provide API e.g displays its relevant functions are:\n",
    "## get_option()set_option() reset_option() describe_option() option_context()\n",
    "## Default max values for row and column display\n",
    "print (pd.get_option(\"display.max_rows\"))\n",
    "print (pd.get_option(\"display.max_columns\"))\n",
    "print(\"\\n\")\n",
    "pd.set_option(\"display.max_rows\",90)\n",
    "pd.set_option(\"display.max_columns\",45)\n",
    "print (pd.get_option(\"display.max_rows\"))\n",
    "print (pd.get_option(\"display.max_columns\"))\n",
    "print(\"\\n\")\n",
    "pd.reset_option(\"display.max_rows\") ## reset to default values\n",
    "pd.reset_option(\"display.max_columns\") ## reset to default values\n",
    "print (pd.get_option(\"display.max_rows\"))\n",
    "print (pd.get_option(\"display.max_columns\"))\n",
    "\n",
    "print(\"\\n\")\n",
    "with pd.option_context(\"display.max_rows\",10): ##temporory set\n",
    "   print(pd.get_option(\"display.max_rows\"))   \n",
    "   print(pd.get_option(\"display.max_columns\"))\n"
   ]
  },
  {
   "cell_type": "markdown",
   "metadata": {},
   "source": [
    "## Python Pandas - Indexing and Selecting Data\n",
    " loc()  -->\tLabel based\n",
    ".iloc() -->\tInteger based\n",
    ".ix()   -->\tBoth Label and Integer based"
   ]
  },
  {
   "cell_type": "code",
   "execution_count": 27,
   "metadata": {},
   "outputs": [
    {
     "name": "stdout",
     "output_type": "stream",
     "text": [
      "          A         B         C         D\n",
      "a  1.402412 -1.183152  0.284390  0.806553\n",
      "b -0.047609 -0.077516  0.666420  0.530834\n",
      "c -0.692509 -1.017303 -2.044855  0.650715\n",
      "d  0.002971  0.631506  1.171653 -0.090197\n",
      "e -0.611649 -0.975269  0.700286  0.860253\n",
      "f -2.095869  0.637850 -1.387936 -0.931508\n",
      "g  0.851751 -0.065273  1.176671 -0.879899\n",
      "h  1.015113  1.124879 -1.116327 -0.887580\n",
      "a    1.402412\n",
      "b   -0.047609\n",
      "c   -0.692509\n",
      "d    0.002971\n",
      "e   -0.611649\n",
      "f   -2.095869\n",
      "g    0.851751\n",
      "h    1.015113\n",
      "Name: A, dtype: float64\n",
      "          A         C\n",
      "a  1.402412  0.284390\n",
      "b -0.047609  0.666420\n",
      "c -0.692509 -2.044855\n",
      "d  0.002971  1.171653\n",
      "e -0.611649  0.700286\n",
      "f -2.095869 -1.387936\n",
      "g  0.851751  1.176671\n",
      "h  1.015113 -1.116327\n",
      "          A         C\n",
      "a  1.402412  0.284390\n",
      "b -0.047609  0.666420\n",
      "f -2.095869 -1.387936\n",
      "h  1.015113 -1.116327\n",
      "          A         B         C         D\n",
      "a  1.402412 -1.183152  0.284390  0.806553\n",
      "b -0.047609 -0.077516  0.666420  0.530834\n",
      "c -0.692509 -1.017303 -2.044855  0.650715\n",
      "d  0.002971  0.631506  1.171653 -0.090197\n",
      "e -0.611649 -0.975269  0.700286  0.860253\n",
      "f -2.095869  0.637850 -1.387936 -0.931508\n",
      "A     True\n",
      "B    False\n",
      "C     True\n",
      "D     True\n",
      "Name: a, dtype: bool\n"
     ]
    }
   ],
   "source": [
    "## Label based\n",
    "df = pd.DataFrame(np.random.randn(8, 4),\n",
    "index = ['a','b','c','d','e','f','g','h'], columns = ['A', 'B', 'C', 'D'])\n",
    "print(df)\n",
    "#select all rows for a specific column\n",
    "print (df.loc[:,'A'])\n",
    "\n",
    "# Select all rows for multiple columns, say list[]\n",
    "print (df.loc[:,['A','C']])\n",
    "\n",
    "# Select few rows for multiple columns, say list[]\n",
    "print (df.loc[['a','b','f','h'],['A','C']])\n",
    "\n",
    "# Select range of rows for all columns\n",
    "print (df.loc['a':'f'])\n",
    "\n",
    "# for getting values with a boolean array\n",
    "print (df.loc['a']>0)\n"
   ]
  },
  {
   "cell_type": "code",
   "execution_count": 28,
   "metadata": {},
   "outputs": [
    {
     "name": "stdout",
     "output_type": "stream",
     "text": [
      "          A         B         C         D\n",
      "0  1.267687  0.469517 -0.985060  0.580649\n",
      "1 -1.930533  0.183349 -0.261794 -0.350174\n",
      "2  2.356305  0.000216 -1.033504  1.062746\n",
      "3  1.272449 -0.958698  0.315126  0.331979\n",
      "4  0.901538 -0.475393 -0.636202 -1.407418\n",
      "5 -0.215733 -0.840610  1.151833  0.291566\n",
      "6 -0.142487  3.304620  0.452781  1.005568\n",
      "7  1.318033 -1.020508  0.692703 -0.001311\n",
      "          A         B         C         D\n",
      "0  1.267687  0.469517 -0.985060  0.580649\n",
      "1 -1.930533  0.183349 -0.261794 -0.350174\n",
      "2  2.356305  0.000216 -1.033504  1.062746\n",
      "3  1.272449 -0.958698  0.315126  0.331979\n",
      "          C         D\n",
      "1 -0.261794 -0.350174\n",
      "2 -1.033504  1.062746\n",
      "3  0.315126  0.331979\n",
      "4 -0.636202 -1.407418\n",
      "          B         D\n",
      "1  0.183349 -0.350174\n",
      "3 -0.958698  0.331979\n",
      "5 -0.840610  0.291566\n",
      "          A         B         C         D\n",
      "1 -1.930533  0.183349 -0.261794 -0.350174\n",
      "2  2.356305  0.000216 -1.033504  1.062746\n",
      "          B         C\n",
      "0  0.469517 -0.985060\n",
      "1  0.183349 -0.261794\n",
      "2  0.000216 -1.033504\n",
      "3 -0.958698  0.315126\n",
      "4 -0.475393 -0.636202\n",
      "5 -0.840610  1.151833\n",
      "6  3.304620  0.452781\n",
      "7 -1.020508  0.692703\n",
      "\n",
      " hybrid approach\n",
      "          A         B         C         D\n",
      "0  1.267687  0.469517 -0.985060  0.580649\n",
      "1 -1.930533  0.183349 -0.261794 -0.350174\n",
      "2  2.356305  0.000216 -1.033504  1.062746\n",
      "3  1.272449 -0.958698  0.315126  0.331979\n",
      "0    1.267687\n",
      "1   -1.930533\n",
      "2    2.356305\n",
      "3    1.272449\n",
      "4    0.901538\n",
      "5   -0.215733\n",
      "6   -0.142487\n",
      "7    1.318033\n",
      "Name: A, dtype: float64\n"
     ]
    },
    {
     "name": "stderr",
     "output_type": "stream",
     "text": [
      "/usr/local/lib/python3.4/dist-packages/ipykernel_launcher.py:15: DeprecationWarning: \n",
      ".ix is deprecated. Please use\n",
      ".loc for label based indexing or\n",
      ".iloc for positional indexing\n",
      "\n",
      "See the documentation here:\n",
      "http://pandas.pydata.org/pandas-docs/stable/indexing.html#ix-indexer-is-deprecated\n",
      "  from ipykernel import kernelapp as app\n"
     ]
    }
   ],
   "source": [
    "#integer based. #Like python and numpy, these are 0-based indexing.\n",
    "df = pd.DataFrame(np.random.randn(8, 4), columns = ['A', 'B', 'C', 'D'])\n",
    "print(df)\n",
    "# select all rows for a specific column\n",
    "print (df.iloc[:4])\n",
    "print (df.iloc[1:5, 2:4])\n",
    "\n",
    "# Slicing through list of values\n",
    "print (df.iloc[[1, 3, 5], [1, 3]])\n",
    "print (df.iloc[1:3, :])\n",
    "print (df.iloc[:,1:3])\n",
    "print(\"\\n hybrid approach\")\n",
    "##hyrid approach ## depreceated warning, use loc and iloc only\n",
    "# Integer slicing\n",
    "print (df.ix[:3]) ## considers 3rd element also. strange but reality ## \n",
    "# Index slicing\n",
    "print (df.ix[:,'A']) "
   ]
  },
  {
   "cell_type": "code",
   "execution_count": 29,
   "metadata": {},
   "outputs": [
    {
     "name": "stdout",
     "output_type": "stream",
     "text": [
      "          A         B\n",
      "0  1.267687  0.469517\n",
      "1 -1.930533  0.183349\n",
      "2  2.356305  0.000216\n",
      "3  1.272449 -0.958698\n",
      "4  0.901538 -0.475393\n",
      "5 -0.215733 -0.840610\n",
      "6 -0.142487  3.304620\n",
      "7  1.318033 -1.020508\n",
      "0    1.267687\n",
      "1   -1.930533\n",
      "2    2.356305\n",
      "3    1.272449\n",
      "4    0.901538\n",
      "5   -0.215733\n",
      "6   -0.142487\n",
      "7    1.318033\n",
      "Name: A, dtype: float64\n"
     ]
    }
   ],
   "source": [
    "## use of notations\n",
    "print (df[['A','B']])\n",
    "## attribute access\n",
    "print (df.A)\n"
   ]
  },
  {
   "cell_type": "code",
   "execution_count": 30,
   "metadata": {},
   "outputs": [
    {
     "name": "stdout",
     "output_type": "stream",
     "text": [
      "0         NaN\n",
      "1   -0.750000\n",
      "2    0.333333\n",
      "3    0.250000\n",
      "4   -0.200000\n",
      "dtype: float64\n",
      "          0         1\n",
      "0  0.238346  0.194158\n",
      "1  0.793583  1.378230\n",
      "2  0.342026 -0.282662\n",
      "3  1.259856 -0.082271\n",
      "4  1.228216 -0.421827\n",
      "          0         1\n",
      "0       NaN       NaN\n",
      "1  2.329543  6.098504\n",
      "2 -0.569011 -1.205091\n",
      "3  2.683513 -0.708941\n",
      "4 -0.025114  4.127273\n"
     ]
    }
   ],
   "source": [
    "###Python Pandas - Statistical Functions\n",
    "\n",
    "s = pd.Series([12,3,4,5,4])\n",
    "print (s.pct_change()) ## percent change w.r.t. previous element/100\n",
    "\n",
    "df = pd.DataFrame(np.random.randn(5, 2))\n",
    "print (df)\n",
    "print (df.pct_change(axis=0)) # by default axis=0 for column wise for row wise axis=1\n",
    "\n"
   ]
  },
  {
   "cell_type": "code",
   "execution_count": 31,
   "metadata": {},
   "outputs": [
    {
     "name": "stdout",
     "output_type": "stream",
     "text": [
      "0.1946773049373767\n"
     ]
    }
   ],
   "source": [
    "###Co-variance\n",
    "s1 = pd.Series(np.random.randn(10))\n",
    "s2 = pd.Series(np.random.randn(10))\n",
    "print (s1.cov(s2))"
   ]
  },
  {
   "cell_type": "code",
   "execution_count": 32,
   "metadata": {},
   "outputs": [
    {
     "name": "stdout",
     "output_type": "stream",
     "text": [
      "-0.11335207197842921\n",
      "          a         b         c         d         e\n",
      "a  0.303356 -0.113352  0.192232  0.011148  0.215677\n",
      "b -0.113352  0.626190 -0.207928  0.378321  0.000645\n",
      "c  0.192232 -0.207928  0.878249 -0.033852  0.364290\n",
      "d  0.011148  0.378321 -0.033852  1.318340 -0.046026\n",
      "e  0.215677  0.000645  0.364290 -0.046026  0.429524\n"
     ]
    }
   ],
   "source": [
    "frame = pd.DataFrame(np.random.randn(10, 5), columns=['a', 'b', 'c', 'd', 'e'])\n",
    "print (frame['a'].cov(frame['b'])) #covariance between a and b series\n",
    "print (frame.cov()) #complete covariance"
   ]
  },
  {
   "cell_type": "code",
   "execution_count": 33,
   "metadata": {},
   "outputs": [
    {
     "name": "stdout",
     "output_type": "stream",
     "text": [
      "-0.2600759370538155\n",
      "          a         b         c         d         e\n",
      "a  1.000000 -0.260076  0.372426  0.017628  0.597494\n",
      "b -0.260076  1.000000 -0.280383  0.416384  0.001244\n",
      "c  0.372426 -0.280383  1.000000 -0.031460  0.593123\n",
      "d  0.017628  0.416384 -0.031460  1.000000 -0.061163\n",
      "e  0.597494  0.001244  0.593123 -0.061163  1.000000\n"
     ]
    }
   ],
   "source": [
    "## co-relation\n",
    "print (frame['a'].corr(frame['b']))\n",
    "\n",
    "print (frame.corr())"
   ]
  },
  {
   "cell_type": "code",
   "execution_count": 34,
   "metadata": {},
   "outputs": [
    {
     "name": "stdout",
     "output_type": "stream",
     "text": [
      "                   A         B         C         D\n",
      "2000-01-01  1.493419 -0.736001  1.797969 -1.021867\n",
      "2000-01-02 -1.080194  0.313330  0.001147 -0.439221\n",
      "2000-01-03  0.202630 -0.028713 -0.333047 -2.462732\n",
      "2000-01-04  1.626157 -0.758026 -0.294098  2.351020\n",
      "2000-01-05  0.244600 -1.384653  0.955698  0.269793\n",
      "2000-01-06  1.421067 -0.167095 -0.055275  2.336526\n",
      "2000-01-07  0.390499 -1.225220  1.057395  0.368475\n",
      "2000-01-08  0.337469  0.537531 -0.747739  0.631565\n",
      "2000-01-09  1.908130  0.411438 -0.400539  0.709538\n",
      "2000-01-10  0.330671 -0.582459 -0.945120  0.346121\n",
      "\n",
      " after rolling window with size 3\n",
      "                   A         B         C         D\n",
      "2000-01-01       NaN       NaN       NaN       NaN\n",
      "2000-01-02       NaN       NaN       NaN       NaN\n",
      "2000-01-03  0.205285 -0.150461  0.488690 -1.307940\n",
      "2000-01-04  0.249531 -0.157803 -0.208666 -0.183644\n",
      "2000-01-05  0.691129 -0.723797  0.109518  0.052693\n",
      "2000-01-06  1.097275 -0.769925  0.202108  1.652446\n",
      "2000-01-07  0.685389 -0.925656  0.652606  0.991598\n",
      "2000-01-08  0.716345 -0.284928  0.084794  1.112189\n",
      "2000-01-09  0.878700 -0.092083 -0.030294  0.569859\n",
      "2000-01-10  0.858757  0.122170 -0.697799  0.562408\n",
      "\n",
      " after expanding min period  3\n",
      "                   A         B         C         D\n",
      "2000-01-01       NaN       NaN       NaN       NaN\n",
      "2000-01-02       NaN       NaN       NaN       NaN\n",
      "2000-01-03  0.205285 -0.150461  0.488690 -1.307940\n",
      "2000-01-04  0.560503 -0.302352  0.292993 -0.393200\n",
      "2000-01-05  0.497322 -0.518813  0.425534 -0.260601\n",
      "2000-01-06  0.651280 -0.460193  0.345399  0.172253\n",
      "2000-01-07  0.614025 -0.569483  0.447113  0.200285\n",
      "2000-01-08  0.579456 -0.431106  0.297756  0.254195\n",
      "2000-01-09  0.727086 -0.337490  0.220168  0.304789\n",
      "2000-01-10  0.687445 -0.361987  0.103639  0.308922\n",
      "\n",
      " after assigining weight exponentially\n",
      "                   A         B         C         D\n",
      "2000-01-01  1.493419 -0.736001  1.797969 -1.021867\n",
      "2000-01-02 -0.436791  0.050997  0.450353 -0.584883\n",
      "2000-01-03  0.005885 -0.004187 -0.092001 -1.884932\n",
      "2000-01-04  1.099569 -0.513028 -0.228416  0.974335\n",
      "2000-01-05  0.527234 -1.096513  0.564255  0.502699\n",
      "2000-01-06  1.123941 -0.476050  0.150668  1.726930\n",
      "2000-01-07  0.634756 -0.975725  0.755429  0.820879\n",
      "2000-01-08  0.436535  0.033266 -0.246836  0.694650\n",
      "2000-01-09  1.417648  0.285394 -0.349310  0.704576\n",
      "2000-01-10  0.692985 -0.293184 -0.746524  0.465602\n"
     ]
    }
   ],
   "source": [
    "## python windows function\n",
    "##Window functions are majorly used in finding the trends within the data\n",
    "df = pd.DataFrame(np.random.randn(10, 4),\n",
    "index = pd.date_range('1/1/2000', periods=10),\n",
    "columns = ['A', 'B', 'C', 'D'])\n",
    "print(df)\n",
    "print(\"\\n after rolling window with size 3\")\n",
    "print (df.rolling(window=3).mean())\n",
    "\n",
    "print(\"\\n after expanding min period  3\")\n",
    "print (df.expanding(min_periods=3).mean())\n",
    "\n",
    "print(\"\\n after assigining weight exponentially\")\n",
    "print (df.ewm(com=0.5).mean())"
   ]
  },
  {
   "cell_type": "code",
   "execution_count": 35,
   "metadata": {},
   "outputs": [
    {
     "name": "stdout",
     "output_type": "stream",
     "text": [
      "        one       two     three\n",
      "a  0.600254 -0.353734 -0.255404\n",
      "b       NaN       NaN       NaN\n",
      "c  1.106098 -0.042151  0.455281\n",
      "d       NaN       NaN       NaN\n",
      "e  0.523421  0.695181 -2.064942\n",
      "f -0.378520 -1.069862  0.535168\n",
      "g       NaN       NaN       NaN\n",
      "h -2.123964  0.676466 -0.423000\n",
      "a    False\n",
      "b     True\n",
      "c    False\n",
      "d     True\n",
      "e    False\n",
      "f    False\n",
      "g     True\n",
      "h    False\n",
      "Name: one, dtype: bool\n",
      "a     True\n",
      "b    False\n",
      "c     True\n",
      "d    False\n",
      "e     True\n",
      "f     True\n",
      "g    False\n",
      "h     True\n",
      "Name: one, dtype: bool\n",
      "\n",
      " sum: \n",
      "-0.27271054837173536\n",
      "        one       two     three\n",
      "a  0.600254 -0.353734 -0.255404\n",
      "b  0.000000  0.000000  0.000000\n",
      "c  1.106098 -0.042151  0.455281\n",
      "d  0.000000  0.000000  0.000000\n",
      "e  0.523421  0.695181 -2.064942\n",
      "f -0.378520 -1.069862  0.535168\n",
      "g  0.000000  0.000000  0.000000\n",
      "h -2.123964  0.676466 -0.423000\n",
      "        one       two     three\n",
      "a  0.600254 -0.353734 -0.255404\n",
      "b  1.106098 -0.042151  0.455281\n",
      "c  1.106098 -0.042151  0.455281\n",
      "d  0.523421  0.695181 -2.064942\n",
      "e  0.523421  0.695181 -2.064942\n",
      "f -0.378520 -1.069862  0.535168\n",
      "g -2.123964  0.676466 -0.423000\n",
      "h -2.123964  0.676466 -0.423000\n",
      "        one       two     three\n",
      "a  0.600254 -0.353734 -0.255404\n",
      "c  1.106098 -0.042151  0.455281\n",
      "e  0.523421  0.695181 -2.064942\n",
      "f -0.378520 -1.069862  0.535168\n",
      "h -2.123964  0.676466 -0.423000\n",
      "Empty DataFrame\n",
      "Columns: []\n",
      "Index: [a, b, c, d, e, f, g, h]\n"
     ]
    }
   ],
   "source": [
    "### Missing values NaN\n",
    "\n",
    "df = pd.DataFrame(np.random.randn(5, 3), index=['a', 'c', 'e', 'f',\n",
    "'h'],columns=['one', 'two', 'three'])\n",
    "\n",
    "df = df.reindex(['a', 'b', 'c', 'd', 'e', 'f', 'g', 'h'])\n",
    "\n",
    "print (df)\n",
    "## check for missing values\n",
    "## two methos notnull isnull\n",
    "print (df['one'].isnull())\n",
    "\n",
    "print (df['one'].notnull())\n",
    "\n",
    "print(\"\\n sum: \") \n",
    "print (df['one'].sum()) # treats NaN values as zero \n",
    "# If  data are all NA, then result will b NA\n",
    "\n",
    "### Cleaning / Filling Missing Data\n",
    "print (df.fillna(0)) # fill nan with zeros\n",
    "\n",
    "## pad/fill --> Fill methods Forward fill\n",
    "## bfill/backfill --> Fill methods Backward\n",
    "\n",
    "print (df.fillna(method='bfill'))\n",
    "print (df.dropna()) ## drop mising values\n",
    "print (df.dropna(axis=1))"
   ]
  },
  {
   "cell_type": "code",
   "execution_count": 36,
   "metadata": {},
   "outputs": [
    {
     "name": "stdout",
     "output_type": "stream",
     "text": [
      "   one  two\n",
      "0   10   10\n",
      "1   20    0\n",
      "2   30   30\n",
      "3   40   40\n",
      "4   50   50\n",
      "5   60   60\n"
     ]
    }
   ],
   "source": [
    "## replacing missing or generic values\n",
    "df = pd.DataFrame({'one':[10,20,30,40,50,2000],\n",
    "'two':[1000,0,30,40,50,60]})\n",
    "print (df.replace({1000:10,2000:60}))"
   ]
  },
  {
   "cell_type": "code",
   "execution_count": 37,
   "metadata": {},
   "outputs": [
    {
     "name": "stdout",
     "output_type": "stream",
     "text": [
      "    Points  Rank    Team  Year\n",
      "0      876     1  Riders  2014\n",
      "1      789     2  Riders  2015\n",
      "2      863     2  Devils  2014\n",
      "3      673     3  Devils  2015\n",
      "4      741     3   Kings  2014\n",
      "5      812     4   kings  2015\n",
      "6      756     1   Kings  2016\n",
      "7      788     1   Kings  2017\n",
      "8      694     2  Riders  2016\n",
      "9      701     4  Royals  2014\n",
      "10     804     1  Royals  2015\n",
      "11     690     2  Riders  2017\n",
      "\n",
      " result\n",
      "<pandas.core.groupby.DataFrameGroupBy object at 0x7f46d70b0e80>\n",
      "{'Riders': Int64Index([0, 1, 8, 11], dtype='int64'), 'Devils': Int64Index([2, 3], dtype='int64'), 'Kings': Int64Index([4, 6, 7], dtype='int64'), 'Royals': Int64Index([9, 10], dtype='int64'), 'kings': Int64Index([5], dtype='int64')}\n"
     ]
    }
   ],
   "source": [
    "### Split Data into Groups ##Groupby ## remaining to study\n",
    "ipl_data = {'Team': ['Riders', 'Riders', 'Devils', 'Devils', 'Kings',\n",
    "         'kings', 'Kings', 'Kings', 'Riders', 'Royals', 'Royals', 'Riders'],\n",
    "         'Rank': [1, 2, 2, 3, 3,4 ,1 ,1,2 , 4,1,2],\n",
    "         'Year': [2014,2015,2014,2015,2014,2015,2016,2017,2016,2014,2015,2017],\n",
    "         'Points':[876,789,863,673,741,812,756,788,694,701,804,690]}\n",
    "df = pd.DataFrame(ipl_data)\n",
    "\n",
    "print(df)\n",
    "print ('\\n result')\n",
    "print (df.groupby('Team'))\n",
    "\n",
    "print (df.groupby('Team').groups)"
   ]
  },
  {
   "cell_type": "code",
   "execution_count": 38,
   "metadata": {},
   "outputs": [
    {
     "name": "stdout",
     "output_type": "stream",
     "text": [
      "     Name  id subject_id\n",
      "0    Alex   1       sub1\n",
      "1     Amy   2       sub2\n",
      "2   Allen   3       sub4\n",
      "3   Alice   4       sub6\n",
      "4  Ayoung   5       sub5\n",
      "    Name  id subject_id\n",
      "0  Billy   1       sub2\n",
      "1  Brian   2       sub4\n",
      "2   Bran   3       sub3\n",
      "3  Bryce   4       sub6\n",
      "4  Betty   5       sub5\n",
      "   Name_x  id subject_id_x Name_y subject_id_y\n",
      "0    Alex   1         sub1  Billy         sub2\n",
      "1     Amy   2         sub2  Brian         sub4\n",
      "2   Allen   3         sub4   Bran         sub3\n",
      "3   Alice   4         sub6  Bryce         sub6\n",
      "4  Ayoung   5         sub5  Betty         sub5\n"
     ]
    }
   ],
   "source": [
    "##Python Pandas - Merging/Joining\n",
    "\n",
    "left = pd.DataFrame({\n",
    "         'id':[1,2,3,4,5],\n",
    "         'Name': ['Alex', 'Amy', 'Allen', 'Alice', 'Ayoung'],\n",
    "         'subject_id':['sub1','sub2','sub4','sub6','sub5']})\n",
    "right = pd.DataFrame(\n",
    "         {'id':[1,2,3,4,5],\n",
    "         'Name': ['Billy', 'Brian', 'Bran', 'Bryce', 'Betty'],\n",
    "         'subject_id':['sub2','sub4','sub3','sub6','sub5']})\n",
    "print (left)\n",
    "print (right)\n",
    "\n",
    "print (pd.merge(left,right,on='id'))"
   ]
  },
  {
   "cell_type": "code",
   "execution_count": 39,
   "metadata": {},
   "outputs": [
    {
     "name": "stdout",
     "output_type": "stream",
     "text": [
      "   Name_x  id subject_id Name_y\n",
      "0   Alice   4       sub6  Bryce\n",
      "1  Ayoung   5       sub5  Betty\n"
     ]
    }
   ],
   "source": [
    "print (pd.merge(left,right,on=['id','subject_id'])) ## here id n sub id matches merged"
   ]
  },
  {
   "cell_type": "code",
   "execution_count": 40,
   "metadata": {},
   "outputs": [
    {
     "name": "stdout",
     "output_type": "stream",
     "text": [
      "   Name_x  id subject_id Name_y\n",
      "0    Alex   1       sub1    NaN\n",
      "1     Amy   2       sub2    NaN\n",
      "2   Allen   3       sub4    NaN\n",
      "3   Alice   4       sub6  Bryce\n",
      "4  Ayoung   5       sub5  Betty\n"
     ]
    }
   ],
   "source": [
    "#Methods of merging how= left right, outer, inner\n",
    "print (pd.merge(left, right, on=['id','subject_id'], how='left'))"
   ]
  },
  {
   "cell_type": "markdown",
   "metadata": {},
   "source": [
    "As matches for 0 1 2 entry is not possible NaN are added"
   ]
  },
  {
   "cell_type": "code",
   "execution_count": 41,
   "metadata": {},
   "outputs": [
    {
     "name": "stdout",
     "output_type": "stream",
     "text": [
      "   Marks_scored    Name subject_id\n",
      "1            98    Alex       sub1\n",
      "2            90     Amy       sub2\n",
      "3            87   Allen       sub4\n",
      "4            69   Alice       sub6\n",
      "5            78  Ayoung       sub5\n",
      "1            89   Billy       sub2\n",
      "2            80   Brian       sub4\n",
      "3            79    Bran       sub3\n",
      "4            97   Bryce       sub6\n",
      "5            88   Betty       sub5\n",
      "\n",
      " concat with keys\n",
      "     Marks_scored    Name subject_id\n",
      "x 1            98    Alex       sub1\n",
      "  2            90     Amy       sub2\n",
      "  3            87   Allen       sub4\n",
      "  4            69   Alice       sub6\n",
      "  5            78  Ayoung       sub5\n",
      "y 1            89   Billy       sub2\n",
      "  2            80   Brian       sub4\n",
      "  3            79    Bran       sub3\n",
      "  4            97   Bryce       sub6\n",
      "  5            88   Betty       sub5\n"
     ]
    }
   ],
   "source": [
    "## Concat two dataframes\n",
    "\n",
    "one = pd.DataFrame({\n",
    "         'Name': ['Alex', 'Amy', 'Allen', 'Alice', 'Ayoung'],\n",
    "         'subject_id':['sub1','sub2','sub4','sub6','sub5'],\n",
    "         'Marks_scored':[98,90,87,69,78]},\n",
    "         index=[1,2,3,4,5])\n",
    "two = pd.DataFrame({\n",
    "         'Name': ['Billy', 'Brian', 'Bran', 'Bryce', 'Betty'],\n",
    "         'subject_id':['sub2','sub4','sub3','sub6','sub5'],\n",
    "         'Marks_scored':[89,80,79,97,88]},\n",
    "         index=[1,2,3,4,5])\n",
    "print (pd.concat([one,two]))\n",
    "print(\"\\n concat with keys\")\n",
    "print (pd.concat([one,two],keys=['x','y']))\n"
   ]
  },
  {
   "cell_type": "code",
   "execution_count": 42,
   "metadata": {},
   "outputs": [
    {
     "name": "stdout",
     "output_type": "stream",
     "text": [
      "   Marks_scored    Name subject_id\n",
      "0            98    Alex       sub1\n",
      "1            90     Amy       sub2\n",
      "2            87   Allen       sub4\n",
      "3            69   Alice       sub6\n",
      "4            78  Ayoung       sub5\n",
      "5            89   Billy       sub2\n",
      "6            80   Brian       sub4\n",
      "7            79    Bran       sub3\n",
      "8            97   Bryce       sub6\n",
      "9            88   Betty       sub5\n",
      "   Marks_scored    Name subject_id  Marks_scored   Name subject_id\n",
      "1            98    Alex       sub1            89  Billy       sub2\n",
      "2            90     Amy       sub2            80  Brian       sub4\n",
      "3            87   Allen       sub4            79   Bran       sub3\n",
      "4            69   Alice       sub6            97  Bryce       sub6\n",
      "5            78  Ayoung       sub5            88  Betty       sub5\n",
      "   Marks_scored    Name subject_id\n",
      "1            98    Alex       sub1\n",
      "2            90     Amy       sub2\n",
      "3            87   Allen       sub4\n",
      "4            69   Alice       sub6\n",
      "5            78  Ayoung       sub5\n",
      "1            89   Billy       sub2\n",
      "2            80   Brian       sub4\n",
      "3            79    Bran       sub3\n",
      "4            97   Bryce       sub6\n",
      "5            88   Betty       sub5\n"
     ]
    }
   ],
   "source": [
    "#resultant object has to follow its own indexing, set ignore_index to True.\n",
    "print (pd.concat([one,two],keys=['x','y'],ignore_index=True))\n",
    "\n",
    "print (pd.concat([one,two],axis=1)) ## concat along rows \n",
    "print (one.append(two)) ## concat using append and default axis=0"
   ]
  },
  {
   "cell_type": "code",
   "execution_count": 43,
   "metadata": {},
   "outputs": [
    {
     "name": "stdout",
     "output_type": "stream",
     "text": [
      "2018-12-18 11:33:41.194469\n"
     ]
    }
   ],
   "source": [
    "print (pd.datetime.now()) ## remaining part here"
   ]
  },
  {
   "cell_type": "code",
   "execution_count": 44,
   "metadata": {},
   "outputs": [
    {
     "name": "stdout",
     "output_type": "stream",
     "text": [
      "0    a\n",
      "1    b\n",
      "2    c\n",
      "3    a\n",
      "dtype: category\n",
      "Categories (3, object): [a, b, c]\n"
     ]
    }
   ],
   "source": [
    "### Pandas categorical ### overlook remaining\n",
    "s = pd.Series([\"a\",\"b\",\"c\",\"a\"], dtype=\"category\")\n",
    "print (s)"
   ]
  },
  {
   "cell_type": "code",
   "execution_count": 45,
   "metadata": {},
   "outputs": [
    {
     "data": {
      "text/plain": [
       "<matplotlib.axes._subplots.AxesSubplot at 0x7f46941821d0>"
      ]
     },
     "execution_count": 45,
     "metadata": {},
     "output_type": "execute_result"
    },
    {
     "data": {
      "image/png": "[encoded data removed]",
      "text/plain": [
       "<Figure size 432x288 with 1 Axes>"
      ]
     },
     "metadata": {
      "needs_background": "light"
     },
     "output_type": "display_data"
    },
    {
     "data": {
      "image/png": "[encoded data removed]",
      "text/plain": [
       "<Figure size 432x288 with 1 Axes>"
      ]
     },
     "metadata": {
      "needs_background": "light"
     },
     "output_type": "display_data"
    },
    {
     "data": {
      "image/png": "[encoded data removed]",
      "text/plain": [
       "<Figure size 432x288 with 1 Axes>"
      ]
     },
     "metadata": {
      "needs_background": "light"
     },
     "output_type": "display_data"
    },
    {
     "data": {
      "image/png": "[encoded data removed]",
      "text/plain": [
       "<Figure size 432x288 with 1 Axes>"
      ]
     },
     "metadata": {
      "needs_background": "light"
     },
     "output_type": "display_data"
    },
    {
     "data": {
      "image/png": "[encoded data removed]",
      "text/plain": [
       "<Figure size 432x288 with 1 Axes>"
      ]
     },
     "metadata": {
      "needs_background": "light"
     },
     "output_type": "display_data"
    }
   ],
   "source": [
    "### Visualization pandas\n",
    "df = pd.DataFrame(np.random.randn(10,4),index=pd.date_range('1/1/2000',\n",
    "   periods=10), columns=list('ABCD'))\n",
    "%matplotlib inline\n",
    "df.plot()\n",
    "df.plot.bar()\n",
    "df.plot.bar(stacked=True)\n",
    "df.plot.hist(bins=20)\n",
    "df.plot.box()\n"
   ]
  },
  {
   "cell_type": "code",
   "execution_count": 46,
   "metadata": {},
   "outputs": [
    {
     "data": {
      "text/plain": [
       "array([<matplotlib.axes._subplots.AxesSubplot object at 0x7f4694054978>],\n",
       "      dtype=object)"
      ]
     },
     "execution_count": 46,
     "metadata": {},
     "output_type": "execute_result"
    },
    {
     "data": {
      "image/png": "[encoded data removed]",
      "text/plain": [
       "<Figure size 432x288 with 1 Axes>"
      ]
     },
     "metadata": {
      "needs_background": "light"
     },
     "output_type": "display_data"
    },
    {
     "data": {
      "image/png": "[encoded data removed]",
      "text/plain": [
       "<Figure size 432x288 with 1 Axes>"
      ]
     },
     "metadata": {
      "needs_background": "light"
     },
     "output_type": "display_data"
    },
    {
     "data": {
      "image/png": "[encoded data removed]",
      "text/plain": [
       "<Figure size 432x288 with 1 Axes>"
      ]
     },
     "metadata": {},
     "output_type": "display_data"
    }
   ],
   "source": [
    "df = pd.DataFrame(np.random.rand(10, 4), columns=['a', 'b', 'c', 'd'])\n",
    "df.plot.area()\n",
    "\n",
    "df.plot.scatter(x='a', y='b')\n",
    "\n",
    "#df.diff.hist(bins=20) ## not working \n",
    "df = pd.DataFrame(3 * np.random.rand(4), index=['a', 'b', 'c', 'd'], columns=['x'])\n",
    "df.plot.pie(subplots=True)"
   ]
  },
  {
   "cell_type": "markdown",
   "metadata": {},
   "source": [
    "## Pandas I/O operations"
   ]
  },
  {
   "cell_type": "code",
   "execution_count": 47,
   "metadata": {},
   "outputs": [
    {
     "name": "stdout",
     "output_type": "stream",
     "text": [
      "Index(['GPS_Latitude', 'GPS_Longitude', 'RawLatitude', 'RawLongitude',\n",
      "       'CorrectedLatitude', 'CorrectedLongitude', 'DistanceCorrected2GPS',\n",
      "       'DiffCorrectLatRawLat', 'DiffCorrectLongRawLong', 'DistanceRaw2GPS',\n",
      "       'DiffRawLatGpsLat', 'DiffRawLongGpsLong', 'DistanceRaw2Corrected',\n",
      "       'ImageType'],\n",
      "      dtype='object')\n"
     ]
    }
   ],
   "source": [
    "df=pd.read_csv(\"temp.csv\")\n",
    "#df=pd.read_csv(\"temp.csv\",index_col=['S.No'])\n",
    "print (df.columns)"
   ]
  },
  {
   "cell_type": "code",
   "execution_count": 48,
   "metadata": {},
   "outputs": [
    {
     "name": "stdout",
     "output_type": "stream",
     "text": [
      "GPS_Latitude              float64\n",
      "GPS_Longitude             float64\n",
      "RawLatitude               float64\n",
      "RawLongitude              float64\n",
      "CorrectedLatitude         float64\n",
      "CorrectedLongitude        float64\n",
      "DistanceCorrected2GPS     float64\n",
      "DiffCorrectLatRawLat      float64\n",
      "DiffCorrectLongRawLong    float64\n",
      "DistanceRaw2GPS           float64\n",
      "DiffRawLatGpsLat          float64\n",
      "DiffRawLongGpsLong        float64\n",
      "DistanceRaw2Corrected     float64\n",
      "ImageType                  object\n",
      "dtype: object\n"
     ]
    }
   ],
   "source": [
    "df = pd.read_csv(\"temp.csv\", dtype={'DistanceRaw2GPS': np.float64}) ##Converters\n",
    "print (df.dtypes)"
   ]
  },
  {
   "cell_type": "code",
   "execution_count": 49,
   "metadata": {},
   "outputs": [],
   "source": [
    "df=pd.read_csv(\"temp.csv\", names=['GPS_Latitude', 'DistanceRaw2GPS'])\n",
    "df=pd.read_csv(\"temp.csv\", skiprows=2) #skip initial 2 rows\n",
    "#df\n"
   ]
  },
  {
   "cell_type": "code",
   "execution_count": 50,
   "metadata": {},
   "outputs": [
    {
     "name": "stdout",
     "output_type": "stream",
     "text": [
      "0   -0.031413\n",
      "1    0.101623\n",
      "2         NaN\n",
      "3         NaN\n",
      "4         NaN\n",
      "5         NaN\n",
      "6         NaN\n",
      "7         NaN\n",
      "8   -0.438319\n",
      "9   -0.509120\n",
      "dtype: float64\n",
      "BlockIndex\n",
      "Block locations: array([0, 8], dtype=int32)\n",
      "Block lengths: array([2, 2], dtype=int32)\n",
      "0   -0.031413\n",
      "1    0.101623\n",
      "2         NaN\n",
      "3         NaN\n",
      "4         NaN\n",
      "5         NaN\n",
      "6         NaN\n",
      "7         NaN\n",
      "8   -0.438319\n",
      "9   -0.509120\n",
      "dtype: float64\n"
     ]
    }
   ],
   "source": [
    "## sparcify data\n",
    "ts = pd.Series(np.random.randn(10))\n",
    "ts[2:-2] = np.nan  # from 2 nd row to last 2 rows nan the values\n",
    "sts = ts.to_sparse()\n",
    "print (sts)\n",
    "print (sts.to_dense())\n",
    "#print(\"Total score for \\n \", ts, \"is \\n\", sts)\n",
    "\n",
    "### Python Pandas - Caveats & Gotchas part remaining"
   ]
  },
  {
   "cell_type": "code",
   "execution_count": null,
   "metadata": {},
   "outputs": [],
   "source": []
  }
 ],
 "metadata": {
  "kernelspec": {
   "display_name": "Python 3",
   "language": "python",
   "name": "python3"
  },
  "language_info": {
   "codemirror_mode": {
    "name": "ipython",
    "version": 3
   },
   "file_extension": ".py",
   "mimetype": "text/x-python",
   "name": "python",
   "nbconvert_exporter": "python",
   "pygments_lexer": "ipython3",
   "version": "3.4.3"
  }
 },
 "nbformat": 4,
 "nbformat_minor": 2
}
